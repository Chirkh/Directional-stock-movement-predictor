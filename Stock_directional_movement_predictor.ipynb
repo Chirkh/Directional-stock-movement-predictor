{
  "nbformat": 4,
  "nbformat_minor": 0,
  "metadata": {
    "colab": {
      "name": "Stock directional movement predictor.ipynb",
      "provenance": [],
      "authorship_tag": "ABX9TyNrCmMsg8lbJ7O3OZOs6hu6"
    },
    "kernelspec": {
      "name": "python3",
      "display_name": "Python 3"
    },
    "language_info": {
      "name": "python"
    }
  },
  "cells": [
    {
      "cell_type": "markdown",
      "source": [
        "# Stock directional movement predictor\n",
        "This notebook explores the feasibility of a variety of machine learning algorithms in predicting directional movements of stock (whether the stock will go up or down over a given time in the future). Features for prediction are predominately conventional technical indicators which I hope to expand in the future."
      ],
      "metadata": {
        "id": "Ca1sgL9qAlEk"
      }
    },
    {
      "cell_type": "code",
      "execution_count": 12,
      "metadata": {
        "id": "1yc5xQuzTk6y"
      },
      "outputs": [],
      "source": [
        "import numpy as np\n",
        "from sklearn import svm\n",
        "from sklearn import preprocessing\n",
        "from sklearn.metrics import accuracy_score\n",
        "import pandas as pd\n",
        "import tensorflow as tf\n",
        "from tensorflow import keras\n",
        "from tensorflow.keras import layers\n",
        "import datetime as dt\n",
        "import pandas_datareader as web\n",
        "from matplotlib import pyplot as plt"
      ]
    },
    {
      "cell_type": "code",
      "source": [
        "from google.colab import files\n",
        "f=files.upload()"
      ],
      "metadata": {
        "colab": {
          "resources": {
            "http://localhost:8080/nbextensions/google.colab/files.js": {
              "data": "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",
              "ok": true,
              "headers": [
                [
                  "content-type",
                  "application/javascript"
                ]
              ],
              "status": 200,
              "status_text": ""
            }
          },
          "base_uri": "https://localhost:8080/",
          "height": 73
        },
        "id": "MXk6l0LPTr1p",
        "outputId": "b15c5c4e-e0e3-416b-8fb0-2ed2a992ab01"
      },
      "execution_count": 2,
      "outputs": [
        {
          "output_type": "display_data",
          "data": {
            "text/plain": [
              "<IPython.core.display.HTML object>"
            ],
            "text/html": [
              "\n",
              "     <input type=\"file\" id=\"files-bb1f1ac6-57eb-4709-b3ae-34afc96bf680\" name=\"files[]\" multiple disabled\n",
              "        style=\"border:none\" />\n",
              "     <output id=\"result-bb1f1ac6-57eb-4709-b3ae-34afc96bf680\">\n",
              "      Upload widget is only available when the cell has been executed in the\n",
              "      current browser session. Please rerun this cell to enable.\n",
              "      </output>\n",
              "      <script src=\"/nbextensions/google.colab/files.js\"></script> "
            ]
          },
          "metadata": {}
        },
        {
          "output_type": "stream",
          "name": "stdout",
          "text": [
            "Saving AAPL.csv to AAPL.csv\n"
          ]
        }
      ]
    },
    {
      "cell_type": "code",
      "source": [
        "f2=files.upload()"
      ],
      "metadata": {
        "colab": {
          "resources": {
            "http://localhost:8080/nbextensions/google.colab/files.js": {
              "data": "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",
              "ok": true,
              "headers": [
                [
                  "content-type",
                  "application/javascript"
                ]
              ],
              "status": 200,
              "status_text": ""
            }
          },
          "base_uri": "https://localhost:8080/",
          "height": 73
        },
        "id": "NNGUTYxCTuYz",
        "outputId": "3a1ef204-ed70-4aae-b750-d5c71897a727"
      },
      "execution_count": 3,
      "outputs": [
        {
          "output_type": "display_data",
          "data": {
            "text/plain": [
              "<IPython.core.display.HTML object>"
            ],
            "text/html": [
              "\n",
              "     <input type=\"file\" id=\"files-1a56dea3-2ef3-4e6a-9ff1-1a7daab01257\" name=\"files[]\" multiple disabled\n",
              "        style=\"border:none\" />\n",
              "     <output id=\"result-1a56dea3-2ef3-4e6a-9ff1-1a7daab01257\">\n",
              "      Upload widget is only available when the cell has been executed in the\n",
              "      current browser session. Please rerun this cell to enable.\n",
              "      </output>\n",
              "      <script src=\"/nbextensions/google.colab/files.js\"></script> "
            ]
          },
          "metadata": {}
        },
        {
          "output_type": "stream",
          "name": "stdout",
          "text": [
            "Saving SPY.csv to SPY.csv\n"
          ]
        }
      ]
    },
    {
      "cell_type": "markdown",
      "source": [
        "# Importing data and processing\n",
        "Reading in data from Apple and SPY which we will use as our training data. Apple being the stock and SPY being the ETF which is representative of the index S&P 500 within which Apple belongs."
      ],
      "metadata": {
        "id": "fZigv2hjTQuD"
      }
    },
    {
      "cell_type": "code",
      "source": [
        "apl_df=pd.read_csv('AAPL.csv')\n",
        "spy_df=pd.read_csv('SPY.csv')\n",
        "apl_df.head()"
      ],
      "metadata": {
        "colab": {
          "base_uri": "https://localhost:8080/",
          "height": 206
        },
        "id": "Kk9Rw1e-TwmW",
        "outputId": "83ae5c15-954f-498b-82c1-403d8a83a1da"
      },
      "execution_count": 4,
      "outputs": [
        {
          "output_type": "execute_result",
          "data": {
            "text/plain": [
              "         Date      Open      High       Low     Close  Adj Close     Volume\n",
              "0  2001-01-02  0.265625  0.272321  0.260045  0.265625   0.227114  452312000\n",
              "1  2001-01-03  0.258929  0.297991  0.257813  0.292411   0.250017  817073600\n",
              "2  2001-01-04  0.323940  0.330357  0.300223  0.304688   0.260514  739396000\n",
              "3  2001-01-05  0.302455  0.310268  0.286830  0.292411   0.250017  412356000\n",
              "4  2001-01-08  0.302455  0.303292  0.284598  0.295759   0.252879  373699200"
            ],
            "text/html": [
              "\n",
              "  <div id=\"df-317d154e-a6e3-423c-a174-112f31d874e0\">\n",
              "    <div class=\"colab-df-container\">\n",
              "      <div>\n",
              "<style scoped>\n",
              "    .dataframe tbody tr th:only-of-type {\n",
              "        vertical-align: middle;\n",
              "    }\n",
              "\n",
              "    .dataframe tbody tr th {\n",
              "        vertical-align: top;\n",
              "    }\n",
              "\n",
              "    .dataframe thead th {\n",
              "        text-align: right;\n",
              "    }\n",
              "</style>\n",
              "<table border=\"1\" class=\"dataframe\">\n",
              "  <thead>\n",
              "    <tr style=\"text-align: right;\">\n",
              "      <th></th>\n",
              "      <th>Date</th>\n",
              "      <th>Open</th>\n",
              "      <th>High</th>\n",
              "      <th>Low</th>\n",
              "      <th>Close</th>\n",
              "      <th>Adj Close</th>\n",
              "      <th>Volume</th>\n",
              "    </tr>\n",
              "  </thead>\n",
              "  <tbody>\n",
              "    <tr>\n",
              "      <th>0</th>\n",
              "      <td>2001-01-02</td>\n",
              "      <td>0.265625</td>\n",
              "      <td>0.272321</td>\n",
              "      <td>0.260045</td>\n",
              "      <td>0.265625</td>\n",
              "      <td>0.227114</td>\n",
              "      <td>452312000</td>\n",
              "    </tr>\n",
              "    <tr>\n",
              "      <th>1</th>\n",
              "      <td>2001-01-03</td>\n",
              "      <td>0.258929</td>\n",
              "      <td>0.297991</td>\n",
              "      <td>0.257813</td>\n",
              "      <td>0.292411</td>\n",
              "      <td>0.250017</td>\n",
              "      <td>817073600</td>\n",
              "    </tr>\n",
              "    <tr>\n",
              "      <th>2</th>\n",
              "      <td>2001-01-04</td>\n",
              "      <td>0.323940</td>\n",
              "      <td>0.330357</td>\n",
              "      <td>0.300223</td>\n",
              "      <td>0.304688</td>\n",
              "      <td>0.260514</td>\n",
              "      <td>739396000</td>\n",
              "    </tr>\n",
              "    <tr>\n",
              "      <th>3</th>\n",
              "      <td>2001-01-05</td>\n",
              "      <td>0.302455</td>\n",
              "      <td>0.310268</td>\n",
              "      <td>0.286830</td>\n",
              "      <td>0.292411</td>\n",
              "      <td>0.250017</td>\n",
              "      <td>412356000</td>\n",
              "    </tr>\n",
              "    <tr>\n",
              "      <th>4</th>\n",
              "      <td>2001-01-08</td>\n",
              "      <td>0.302455</td>\n",
              "      <td>0.303292</td>\n",
              "      <td>0.284598</td>\n",
              "      <td>0.295759</td>\n",
              "      <td>0.252879</td>\n",
              "      <td>373699200</td>\n",
              "    </tr>\n",
              "  </tbody>\n",
              "</table>\n",
              "</div>\n",
              "      <button class=\"colab-df-convert\" onclick=\"convertToInteractive('df-317d154e-a6e3-423c-a174-112f31d874e0')\"\n",
              "              title=\"Convert this dataframe to an interactive table.\"\n",
              "              style=\"display:none;\">\n",
              "        \n",
              "  <svg xmlns=\"http://www.w3.org/2000/svg\" height=\"24px\"viewBox=\"0 0 24 24\"\n",
              "       width=\"24px\">\n",
              "    <path d=\"M0 0h24v24H0V0z\" fill=\"none\"/>\n",
              "    <path d=\"M18.56 5.44l.94 2.06.94-2.06 2.06-.94-2.06-.94-.94-2.06-.94 2.06-2.06.94zm-11 1L8.5 8.5l.94-2.06 2.06-.94-2.06-.94L8.5 2.5l-.94 2.06-2.06.94zm10 10l.94 2.06.94-2.06 2.06-.94-2.06-.94-.94-2.06-.94 2.06-2.06.94z\"/><path d=\"M17.41 7.96l-1.37-1.37c-.4-.4-.92-.59-1.43-.59-.52 0-1.04.2-1.43.59L10.3 9.45l-7.72 7.72c-.78.78-.78 2.05 0 2.83L4 21.41c.39.39.9.59 1.41.59.51 0 1.02-.2 1.41-.59l7.78-7.78 2.81-2.81c.8-.78.8-2.07 0-2.86zM5.41 20L4 18.59l7.72-7.72 1.47 1.35L5.41 20z\"/>\n",
              "  </svg>\n",
              "      </button>\n",
              "      \n",
              "  <style>\n",
              "    .colab-df-container {\n",
              "      display:flex;\n",
              "      flex-wrap:wrap;\n",
              "      gap: 12px;\n",
              "    }\n",
              "\n",
              "    .colab-df-convert {\n",
              "      background-color: #E8F0FE;\n",
              "      border: none;\n",
              "      border-radius: 50%;\n",
              "      cursor: pointer;\n",
              "      display: none;\n",
              "      fill: #1967D2;\n",
              "      height: 32px;\n",
              "      padding: 0 0 0 0;\n",
              "      width: 32px;\n",
              "    }\n",
              "\n",
              "    .colab-df-convert:hover {\n",
              "      background-color: #E2EBFA;\n",
              "      box-shadow: 0px 1px 2px rgba(60, 64, 67, 0.3), 0px 1px 3px 1px rgba(60, 64, 67, 0.15);\n",
              "      fill: #174EA6;\n",
              "    }\n",
              "\n",
              "    [theme=dark] .colab-df-convert {\n",
              "      background-color: #3B4455;\n",
              "      fill: #D2E3FC;\n",
              "    }\n",
              "\n",
              "    [theme=dark] .colab-df-convert:hover {\n",
              "      background-color: #434B5C;\n",
              "      box-shadow: 0px 1px 3px 1px rgba(0, 0, 0, 0.15);\n",
              "      filter: drop-shadow(0px 1px 2px rgba(0, 0, 0, 0.3));\n",
              "      fill: #FFFFFF;\n",
              "    }\n",
              "  </style>\n",
              "\n",
              "      <script>\n",
              "        const buttonEl =\n",
              "          document.querySelector('#df-317d154e-a6e3-423c-a174-112f31d874e0 button.colab-df-convert');\n",
              "        buttonEl.style.display =\n",
              "          google.colab.kernel.accessAllowed ? 'block' : 'none';\n",
              "\n",
              "        async function convertToInteractive(key) {\n",
              "          const element = document.querySelector('#df-317d154e-a6e3-423c-a174-112f31d874e0');\n",
              "          const dataTable =\n",
              "            await google.colab.kernel.invokeFunction('convertToInteractive',\n",
              "                                                     [key], {});\n",
              "          if (!dataTable) return;\n",
              "\n",
              "          const docLinkHtml = 'Like what you see? Visit the ' +\n",
              "            '<a target=\"_blank\" href=https://colab.research.google.com/notebooks/data_table.ipynb>data table notebook</a>'\n",
              "            + ' to learn more about interactive tables.';\n",
              "          element.innerHTML = '';\n",
              "          dataTable['output_type'] = 'display_data';\n",
              "          await google.colab.output.renderOutput(dataTable, element);\n",
              "          const docLink = document.createElement('div');\n",
              "          docLink.innerHTML = docLinkHtml;\n",
              "          element.appendChild(docLink);\n",
              "        }\n",
              "      </script>\n",
              "    </div>\n",
              "  </div>\n",
              "  "
            ]
          },
          "metadata": {},
          "execution_count": 4
        }
      ]
    },
    {
      "cell_type": "code",
      "source": [
        "def prepare(df):\n",
        "  df.index = pd.to_datetime(df['Date'])\n",
        "  df=df.drop(['Date'], axis='columns')\n",
        "  df=df[['Close', 'Volume']]\n",
        "  return df\n",
        "\n",
        "apl_df=prepare(apl_df)\n",
        "spy_df=prepare(spy_df)\n",
        "apl_df.tail()"
      ],
      "metadata": {
        "colab": {
          "base_uri": "https://localhost:8080/",
          "height": 238
        },
        "id": "ReLsH2x_T1KJ",
        "outputId": "5e2b7c64-e98b-4859-cd1c-607c0100e78b"
      },
      "execution_count": 5,
      "outputs": [
        {
          "output_type": "execute_result",
          "data": {
            "text/plain": [
              "                 Close    Volume\n",
              "Date                            \n",
              "2022-07-15  150.169998  76030800\n",
              "2022-07-18  147.070007  81420900\n",
              "2022-07-19  151.000000  82982400\n",
              "2022-07-20  153.039993  64823400\n",
              "2022-07-21  155.350006  64953600"
            ],
            "text/html": [
              "\n",
              "  <div id=\"df-62e4a3cf-cc35-4796-928f-2441c0d919ba\">\n",
              "    <div class=\"colab-df-container\">\n",
              "      <div>\n",
              "<style scoped>\n",
              "    .dataframe tbody tr th:only-of-type {\n",
              "        vertical-align: middle;\n",
              "    }\n",
              "\n",
              "    .dataframe tbody tr th {\n",
              "        vertical-align: top;\n",
              "    }\n",
              "\n",
              "    .dataframe thead th {\n",
              "        text-align: right;\n",
              "    }\n",
              "</style>\n",
              "<table border=\"1\" class=\"dataframe\">\n",
              "  <thead>\n",
              "    <tr style=\"text-align: right;\">\n",
              "      <th></th>\n",
              "      <th>Close</th>\n",
              "      <th>Volume</th>\n",
              "    </tr>\n",
              "    <tr>\n",
              "      <th>Date</th>\n",
              "      <th></th>\n",
              "      <th></th>\n",
              "    </tr>\n",
              "  </thead>\n",
              "  <tbody>\n",
              "    <tr>\n",
              "      <th>2022-07-15</th>\n",
              "      <td>150.169998</td>\n",
              "      <td>76030800</td>\n",
              "    </tr>\n",
              "    <tr>\n",
              "      <th>2022-07-18</th>\n",
              "      <td>147.070007</td>\n",
              "      <td>81420900</td>\n",
              "    </tr>\n",
              "    <tr>\n",
              "      <th>2022-07-19</th>\n",
              "      <td>151.000000</td>\n",
              "      <td>82982400</td>\n",
              "    </tr>\n",
              "    <tr>\n",
              "      <th>2022-07-20</th>\n",
              "      <td>153.039993</td>\n",
              "      <td>64823400</td>\n",
              "    </tr>\n",
              "    <tr>\n",
              "      <th>2022-07-21</th>\n",
              "      <td>155.350006</td>\n",
              "      <td>64953600</td>\n",
              "    </tr>\n",
              "  </tbody>\n",
              "</table>\n",
              "</div>\n",
              "      <button class=\"colab-df-convert\" onclick=\"convertToInteractive('df-62e4a3cf-cc35-4796-928f-2441c0d919ba')\"\n",
              "              title=\"Convert this dataframe to an interactive table.\"\n",
              "              style=\"display:none;\">\n",
              "        \n",
              "  <svg xmlns=\"http://www.w3.org/2000/svg\" height=\"24px\"viewBox=\"0 0 24 24\"\n",
              "       width=\"24px\">\n",
              "    <path d=\"M0 0h24v24H0V0z\" fill=\"none\"/>\n",
              "    <path d=\"M18.56 5.44l.94 2.06.94-2.06 2.06-.94-2.06-.94-.94-2.06-.94 2.06-2.06.94zm-11 1L8.5 8.5l.94-2.06 2.06-.94-2.06-.94L8.5 2.5l-.94 2.06-2.06.94zm10 10l.94 2.06.94-2.06 2.06-.94-2.06-.94-.94-2.06-.94 2.06-2.06.94z\"/><path d=\"M17.41 7.96l-1.37-1.37c-.4-.4-.92-.59-1.43-.59-.52 0-1.04.2-1.43.59L10.3 9.45l-7.72 7.72c-.78.78-.78 2.05 0 2.83L4 21.41c.39.39.9.59 1.41.59.51 0 1.02-.2 1.41-.59l7.78-7.78 2.81-2.81c.8-.78.8-2.07 0-2.86zM5.41 20L4 18.59l7.72-7.72 1.47 1.35L5.41 20z\"/>\n",
              "  </svg>\n",
              "      </button>\n",
              "      \n",
              "  <style>\n",
              "    .colab-df-container {\n",
              "      display:flex;\n",
              "      flex-wrap:wrap;\n",
              "      gap: 12px;\n",
              "    }\n",
              "\n",
              "    .colab-df-convert {\n",
              "      background-color: #E8F0FE;\n",
              "      border: none;\n",
              "      border-radius: 50%;\n",
              "      cursor: pointer;\n",
              "      display: none;\n",
              "      fill: #1967D2;\n",
              "      height: 32px;\n",
              "      padding: 0 0 0 0;\n",
              "      width: 32px;\n",
              "    }\n",
              "\n",
              "    .colab-df-convert:hover {\n",
              "      background-color: #E2EBFA;\n",
              "      box-shadow: 0px 1px 2px rgba(60, 64, 67, 0.3), 0px 1px 3px 1px rgba(60, 64, 67, 0.15);\n",
              "      fill: #174EA6;\n",
              "    }\n",
              "\n",
              "    [theme=dark] .colab-df-convert {\n",
              "      background-color: #3B4455;\n",
              "      fill: #D2E3FC;\n",
              "    }\n",
              "\n",
              "    [theme=dark] .colab-df-convert:hover {\n",
              "      background-color: #434B5C;\n",
              "      box-shadow: 0px 1px 3px 1px rgba(0, 0, 0, 0.15);\n",
              "      filter: drop-shadow(0px 1px 2px rgba(0, 0, 0, 0.3));\n",
              "      fill: #FFFFFF;\n",
              "    }\n",
              "  </style>\n",
              "\n",
              "      <script>\n",
              "        const buttonEl =\n",
              "          document.querySelector('#df-62e4a3cf-cc35-4796-928f-2441c0d919ba button.colab-df-convert');\n",
              "        buttonEl.style.display =\n",
              "          google.colab.kernel.accessAllowed ? 'block' : 'none';\n",
              "\n",
              "        async function convertToInteractive(key) {\n",
              "          const element = document.querySelector('#df-62e4a3cf-cc35-4796-928f-2441c0d919ba');\n",
              "          const dataTable =\n",
              "            await google.colab.kernel.invokeFunction('convertToInteractive',\n",
              "                                                     [key], {});\n",
              "          if (!dataTable) return;\n",
              "\n",
              "          const docLinkHtml = 'Like what you see? Visit the ' +\n",
              "            '<a target=\"_blank\" href=https://colab.research.google.com/notebooks/data_table.ipynb>data table notebook</a>'\n",
              "            + ' to learn more about interactive tables.';\n",
              "          element.innerHTML = '';\n",
              "          dataTable['output_type'] = 'display_data';\n",
              "          await google.colab.output.renderOutput(dataTable, element);\n",
              "          const docLink = document.createElement('div');\n",
              "          docLink.innerHTML = docLinkHtml;\n",
              "          element.appendChild(docLink);\n",
              "        }\n",
              "      </script>\n",
              "    </div>\n",
              "  </div>\n",
              "  "
            ]
          },
          "metadata": {},
          "execution_count": 5
        }
      ]
    },
    {
      "cell_type": "code",
      "source": [
        "days_in_past=20\n",
        "look_forward=10"
      ],
      "metadata": {
        "id": "WoQKSqJMT5sN"
      },
      "execution_count": 6,
      "outputs": []
    },
    {
      "cell_type": "markdown",
      "source": [
        "# Features\n",
        "Below we calculate all the features we will be inputting into the model. Currently this is a momentum indicator, volatility indicator, RSI and average volume."
      ],
      "metadata": {
        "id": "pjgThMRWUfZl"
      }
    },
    {
      "cell_type": "code",
      "source": [
        "def movement(row):\n",
        "  if row['mreturns']>1:\n",
        "    return 1\n",
        "  else:\n",
        "    return 0\n",
        "\n",
        "def RSI(df):\n",
        "  deltas=df['Close'].diff()\n",
        "  deltas.dropna(inplace=True)\n",
        "  pos=deltas.copy()\n",
        "  neg=deltas.copy()\n",
        "  pos[pos<0]=0\n",
        "  neg[neg>0]=0\n",
        "  av_gain=pos.rolling(14).mean() #RSI usually only has a lookback of 14 days\n",
        "  av_loss=abs(neg.rolling(14).mean())\n",
        "  rel_strength=av_gain/av_loss\n",
        "  RSI=100-(100/(1+rel_strength))\n",
        "  df['RSI']=RSI.shift(1) # So the row for any given date will contain the the RSI for the date before that we will use to make judgement\n",
        "  return df\n",
        "\n",
        "\n",
        "\n",
        "\n",
        "def feature_calc(df, n, m):\n",
        "  '''\n",
        "  Use n days in the past for feature calculations. \n",
        "  m is the number of days in the future we want to predict \n",
        "  the price movement for.\n",
        "  '''\n",
        "  df['mreturns']=df['Close'].shift(-m)/df['Close'] # Calculates return will get in next m days, what we want to predict\n",
        "  df['returns']=df['Close']/df['Close'].shift(1) # Calculates daily returns on the stock from day before\n",
        "  df['Move']=df.apply(lambda row: movement(row), axis=1) # Signal 1 if stock will move up in next m days\n",
        "  df['momentum']=df['returns'].rolling(n).mean().shift(1) # The n shift now removed as we have adjusted returns - gives us the features up to that date not including\n",
        "  df['volatility']=df['returns'].rolling(n).std().shift(1) # volatility from n days before up to this date\n",
        "  df['volume']=df['Volume'].rolling(n).mean().shift(1) # Average of volume from last n days discluding current date\n",
        "  df=RSI(df)\n",
        "  df.dropna(inplace=True)\n",
        "  return df\n",
        "\n",
        "apl_df=feature_calc(apl_df, days_in_past, look_forward) \n",
        "spy_df=feature_calc(spy_df, days_in_past, look_forward)\n",
        "\n",
        "apl_df.tail(10)"
      ],
      "metadata": {
        "colab": {
          "base_uri": "https://localhost:8080/",
          "height": 394
        },
        "id": "LyMGGN-yT7vB",
        "outputId": "df6d6101-8b69-49b9-cc91-334682dafefd"
      },
      "execution_count": 7,
      "outputs": [
        {
          "output_type": "execute_result",
          "data": {
            "text/plain": [
              "                 Close    Volume  mreturns   returns  Move  momentum  \\\n",
              "Date                                                                   \n",
              "2022-06-23  138.270004  72433800  1.063427  1.021574     1  0.997521   \n",
              "2022-06-24  141.660004  89116800  1.022660  1.024517     1  0.999560   \n",
              "2022-06-27  141.660004  70207900  1.029648  1.000000     1  1.000729   \n",
              "2022-06-28  137.440002  67083400  1.058571  0.970210     1  0.999569   \n",
              "2022-06-29  139.229996  66242400  1.066365  1.013024     1  0.996042   \n",
              "2022-06-30  136.720001  98964500  1.098376  0.981972     1  0.996960   \n",
              "2022-07-01  138.929993  71007500  1.058591  1.016164     1  0.996103   \n",
              "2022-07-05  141.559998  73353800  1.066686  1.018930     1  0.996070   \n",
              "2022-07-06  142.919998  74064300  1.070809  1.009607     1  0.998945   \n",
              "2022-07-07  146.350006  66253700  1.061496  1.023999     1  0.999164   \n",
              "\n",
              "            volatility      volume        RSI  \n",
              "Date                                           \n",
              "2022-06-23    0.025236  88348240.0  34.727928  \n",
              "2022-06-24    0.025460  86763295.0  35.348720  \n",
              "2022-06-27    0.026065  86595000.0  45.541702  \n",
              "2022-06-28    0.025523  85575320.0  44.531253  \n",
              "2022-06-29    0.024381  84380565.0  36.775390  \n",
              "2022-06-30    0.024670  82506765.0  39.999979  \n",
              "2022-07-01    0.024888  83740660.0  42.752198  \n",
              "2022-07-05    0.024860  83673630.0  52.397430  \n",
              "2022-07-06    0.023953  82912805.0  63.860260  \n",
              "2022-07-07    0.024033  83036100.0  64.350301  "
            ],
            "text/html": [
              "\n",
              "  <div id=\"df-81f7b5e3-1107-4e2c-b7a6-3dad278e6968\">\n",
              "    <div class=\"colab-df-container\">\n",
              "      <div>\n",
              "<style scoped>\n",
              "    .dataframe tbody tr th:only-of-type {\n",
              "        vertical-align: middle;\n",
              "    }\n",
              "\n",
              "    .dataframe tbody tr th {\n",
              "        vertical-align: top;\n",
              "    }\n",
              "\n",
              "    .dataframe thead th {\n",
              "        text-align: right;\n",
              "    }\n",
              "</style>\n",
              "<table border=\"1\" class=\"dataframe\">\n",
              "  <thead>\n",
              "    <tr style=\"text-align: right;\">\n",
              "      <th></th>\n",
              "      <th>Close</th>\n",
              "      <th>Volume</th>\n",
              "      <th>mreturns</th>\n",
              "      <th>returns</th>\n",
              "      <th>Move</th>\n",
              "      <th>momentum</th>\n",
              "      <th>volatility</th>\n",
              "      <th>volume</th>\n",
              "      <th>RSI</th>\n",
              "    </tr>\n",
              "    <tr>\n",
              "      <th>Date</th>\n",
              "      <th></th>\n",
              "      <th></th>\n",
              "      <th></th>\n",
              "      <th></th>\n",
              "      <th></th>\n",
              "      <th></th>\n",
              "      <th></th>\n",
              "      <th></th>\n",
              "      <th></th>\n",
              "    </tr>\n",
              "  </thead>\n",
              "  <tbody>\n",
              "    <tr>\n",
              "      <th>2022-06-23</th>\n",
              "      <td>138.270004</td>\n",
              "      <td>72433800</td>\n",
              "      <td>1.063427</td>\n",
              "      <td>1.021574</td>\n",
              "      <td>1</td>\n",
              "      <td>0.997521</td>\n",
              "      <td>0.025236</td>\n",
              "      <td>88348240.0</td>\n",
              "      <td>34.727928</td>\n",
              "    </tr>\n",
              "    <tr>\n",
              "      <th>2022-06-24</th>\n",
              "      <td>141.660004</td>\n",
              "      <td>89116800</td>\n",
              "      <td>1.022660</td>\n",
              "      <td>1.024517</td>\n",
              "      <td>1</td>\n",
              "      <td>0.999560</td>\n",
              "      <td>0.025460</td>\n",
              "      <td>86763295.0</td>\n",
              "      <td>35.348720</td>\n",
              "    </tr>\n",
              "    <tr>\n",
              "      <th>2022-06-27</th>\n",
              "      <td>141.660004</td>\n",
              "      <td>70207900</td>\n",
              "      <td>1.029648</td>\n",
              "      <td>1.000000</td>\n",
              "      <td>1</td>\n",
              "      <td>1.000729</td>\n",
              "      <td>0.026065</td>\n",
              "      <td>86595000.0</td>\n",
              "      <td>45.541702</td>\n",
              "    </tr>\n",
              "    <tr>\n",
              "      <th>2022-06-28</th>\n",
              "      <td>137.440002</td>\n",
              "      <td>67083400</td>\n",
              "      <td>1.058571</td>\n",
              "      <td>0.970210</td>\n",
              "      <td>1</td>\n",
              "      <td>0.999569</td>\n",
              "      <td>0.025523</td>\n",
              "      <td>85575320.0</td>\n",
              "      <td>44.531253</td>\n",
              "    </tr>\n",
              "    <tr>\n",
              "      <th>2022-06-29</th>\n",
              "      <td>139.229996</td>\n",
              "      <td>66242400</td>\n",
              "      <td>1.066365</td>\n",
              "      <td>1.013024</td>\n",
              "      <td>1</td>\n",
              "      <td>0.996042</td>\n",
              "      <td>0.024381</td>\n",
              "      <td>84380565.0</td>\n",
              "      <td>36.775390</td>\n",
              "    </tr>\n",
              "    <tr>\n",
              "      <th>2022-06-30</th>\n",
              "      <td>136.720001</td>\n",
              "      <td>98964500</td>\n",
              "      <td>1.098376</td>\n",
              "      <td>0.981972</td>\n",
              "      <td>1</td>\n",
              "      <td>0.996960</td>\n",
              "      <td>0.024670</td>\n",
              "      <td>82506765.0</td>\n",
              "      <td>39.999979</td>\n",
              "    </tr>\n",
              "    <tr>\n",
              "      <th>2022-07-01</th>\n",
              "      <td>138.929993</td>\n",
              "      <td>71007500</td>\n",
              "      <td>1.058591</td>\n",
              "      <td>1.016164</td>\n",
              "      <td>1</td>\n",
              "      <td>0.996103</td>\n",
              "      <td>0.024888</td>\n",
              "      <td>83740660.0</td>\n",
              "      <td>42.752198</td>\n",
              "    </tr>\n",
              "    <tr>\n",
              "      <th>2022-07-05</th>\n",
              "      <td>141.559998</td>\n",
              "      <td>73353800</td>\n",
              "      <td>1.066686</td>\n",
              "      <td>1.018930</td>\n",
              "      <td>1</td>\n",
              "      <td>0.996070</td>\n",
              "      <td>0.024860</td>\n",
              "      <td>83673630.0</td>\n",
              "      <td>52.397430</td>\n",
              "    </tr>\n",
              "    <tr>\n",
              "      <th>2022-07-06</th>\n",
              "      <td>142.919998</td>\n",
              "      <td>74064300</td>\n",
              "      <td>1.070809</td>\n",
              "      <td>1.009607</td>\n",
              "      <td>1</td>\n",
              "      <td>0.998945</td>\n",
              "      <td>0.023953</td>\n",
              "      <td>82912805.0</td>\n",
              "      <td>63.860260</td>\n",
              "    </tr>\n",
              "    <tr>\n",
              "      <th>2022-07-07</th>\n",
              "      <td>146.350006</td>\n",
              "      <td>66253700</td>\n",
              "      <td>1.061496</td>\n",
              "      <td>1.023999</td>\n",
              "      <td>1</td>\n",
              "      <td>0.999164</td>\n",
              "      <td>0.024033</td>\n",
              "      <td>83036100.0</td>\n",
              "      <td>64.350301</td>\n",
              "    </tr>\n",
              "  </tbody>\n",
              "</table>\n",
              "</div>\n",
              "      <button class=\"colab-df-convert\" onclick=\"convertToInteractive('df-81f7b5e3-1107-4e2c-b7a6-3dad278e6968')\"\n",
              "              title=\"Convert this dataframe to an interactive table.\"\n",
              "              style=\"display:none;\">\n",
              "        \n",
              "  <svg xmlns=\"http://www.w3.org/2000/svg\" height=\"24px\"viewBox=\"0 0 24 24\"\n",
              "       width=\"24px\">\n",
              "    <path d=\"M0 0h24v24H0V0z\" fill=\"none\"/>\n",
              "    <path d=\"M18.56 5.44l.94 2.06.94-2.06 2.06-.94-2.06-.94-.94-2.06-.94 2.06-2.06.94zm-11 1L8.5 8.5l.94-2.06 2.06-.94-2.06-.94L8.5 2.5l-.94 2.06-2.06.94zm10 10l.94 2.06.94-2.06 2.06-.94-2.06-.94-.94-2.06-.94 2.06-2.06.94z\"/><path d=\"M17.41 7.96l-1.37-1.37c-.4-.4-.92-.59-1.43-.59-.52 0-1.04.2-1.43.59L10.3 9.45l-7.72 7.72c-.78.78-.78 2.05 0 2.83L4 21.41c.39.39.9.59 1.41.59.51 0 1.02-.2 1.41-.59l7.78-7.78 2.81-2.81c.8-.78.8-2.07 0-2.86zM5.41 20L4 18.59l7.72-7.72 1.47 1.35L5.41 20z\"/>\n",
              "  </svg>\n",
              "      </button>\n",
              "      \n",
              "  <style>\n",
              "    .colab-df-container {\n",
              "      display:flex;\n",
              "      flex-wrap:wrap;\n",
              "      gap: 12px;\n",
              "    }\n",
              "\n",
              "    .colab-df-convert {\n",
              "      background-color: #E8F0FE;\n",
              "      border: none;\n",
              "      border-radius: 50%;\n",
              "      cursor: pointer;\n",
              "      display: none;\n",
              "      fill: #1967D2;\n",
              "      height: 32px;\n",
              "      padding: 0 0 0 0;\n",
              "      width: 32px;\n",
              "    }\n",
              "\n",
              "    .colab-df-convert:hover {\n",
              "      background-color: #E2EBFA;\n",
              "      box-shadow: 0px 1px 2px rgba(60, 64, 67, 0.3), 0px 1px 3px 1px rgba(60, 64, 67, 0.15);\n",
              "      fill: #174EA6;\n",
              "    }\n",
              "\n",
              "    [theme=dark] .colab-df-convert {\n",
              "      background-color: #3B4455;\n",
              "      fill: #D2E3FC;\n",
              "    }\n",
              "\n",
              "    [theme=dark] .colab-df-convert:hover {\n",
              "      background-color: #434B5C;\n",
              "      box-shadow: 0px 1px 3px 1px rgba(0, 0, 0, 0.15);\n",
              "      filter: drop-shadow(0px 1px 2px rgba(0, 0, 0, 0.3));\n",
              "      fill: #FFFFFF;\n",
              "    }\n",
              "  </style>\n",
              "\n",
              "      <script>\n",
              "        const buttonEl =\n",
              "          document.querySelector('#df-81f7b5e3-1107-4e2c-b7a6-3dad278e6968 button.colab-df-convert');\n",
              "        buttonEl.style.display =\n",
              "          google.colab.kernel.accessAllowed ? 'block' : 'none';\n",
              "\n",
              "        async function convertToInteractive(key) {\n",
              "          const element = document.querySelector('#df-81f7b5e3-1107-4e2c-b7a6-3dad278e6968');\n",
              "          const dataTable =\n",
              "            await google.colab.kernel.invokeFunction('convertToInteractive',\n",
              "                                                     [key], {});\n",
              "          if (!dataTable) return;\n",
              "\n",
              "          const docLinkHtml = 'Like what you see? Visit the ' +\n",
              "            '<a target=\"_blank\" href=https://colab.research.google.com/notebooks/data_table.ipynb>data table notebook</a>'\n",
              "            + ' to learn more about interactive tables.';\n",
              "          element.innerHTML = '';\n",
              "          dataTable['output_type'] = 'display_data';\n",
              "          await google.colab.output.renderOutput(dataTable, element);\n",
              "          const docLink = document.createElement('div');\n",
              "          docLink.innerHTML = docLinkHtml;\n",
              "          element.appendChild(docLink);\n",
              "        }\n",
              "      </script>\n",
              "    </div>\n",
              "  </div>\n",
              "  "
            ]
          },
          "metadata": {},
          "execution_count": 7
        }
      ]
    },
    {
      "cell_type": "code",
      "source": [
        "# Now we have to make one big dataframe containing all the features of the dataset that we want to train with\n",
        "def Join(df1,df2):\n",
        "  df1['momentum_ind']=df2['momentum']\n",
        "  df1['volatility_ind']=df2['volatility']\n",
        "  df1['Volume_ind']=df2['Volume']\n",
        "  df1['RSI_ind']=df2['RSI']\n",
        "  return df1\n",
        "\n",
        "apl_df=Join(apl_df, spy_df)"
      ],
      "metadata": {
        "id": "_IpY8VFXWMwu"
      },
      "execution_count": 8,
      "outputs": []
    },
    {
      "cell_type": "markdown",
      "source": [
        "Now we can create the training and test dataset for our models."
      ],
      "metadata": {
        "id": "IudU7nbWCMRp"
      }
    },
    {
      "cell_type": "code",
      "source": [
        "features=['momentum', 'volatility', 'momentum_ind', 'volatility_ind', 'Volume', 'Volume_ind', 'RSI', 'RSI_ind'] #With RSI gives very high accuracy o something dodgy going on\n",
        "\n",
        "def Split_data(df):\n",
        "  X=df[features]\n",
        "  y=df['Move']\n",
        "  y=np.array(y)\n",
        "\n",
        "  split_per = 0.8\n",
        "  split=int(split_per*len(df))\n",
        "\n",
        "  X_train=X[:split]\n",
        "  y_train=y[:split]\n",
        "\n",
        "  X_test=X[split:]\n",
        "  y_test=y[split:]\n",
        "\n",
        "  scaler=preprocessing.StandardScaler()\n",
        "  X_train_s=scaler.fit_transform(X_train)\n",
        "  X_test_s=scaler.fit_transform(X_test)\n",
        "  return X_train_s, y_train, X_test_s, y_test\n",
        "\n",
        "X_train_s, y_train, X_test_s, y_test = Split_data(apl_df)"
      ],
      "metadata": {
        "id": "Vqg4vNDAWQnF"
      },
      "execution_count": 9,
      "outputs": []
    },
    {
      "cell_type": "markdown",
      "source": [
        "# Training model - SVM\n",
        "Below we create a simple SVM model and fit it to the training data.\n",
        "\n"
      ],
      "metadata": {
        "id": "OtvdjnXoVHjW"
      }
    },
    {
      "cell_type": "code",
      "source": [
        "classifier=svm.SVC().fit(X_train_s, y_train)\n",
        "\n",
        "def accuracies(X_train, X_test, y_train, y_test, classifier):\n",
        "  y_pred=classifier.predict(X_test)\n",
        "  y_pred2=classifier.predict(X_train)\n",
        "  acc=accuracy_score(y_test, y_pred)\n",
        "  print('Train accuracy: ', accuracy_score(y_train, y_pred2))\n",
        "  print('Test accuracy: ', acc)\n",
        "  return y_pred, y_pred2, acc\n",
        "\n",
        "y_pred, y_pred2, acc=accuracies(X_train_s, X_test_s, y_train, y_test, classifier)\n"
      ],
      "metadata": {
        "colab": {
          "base_uri": "https://localhost:8080/"
        },
        "id": "QPZh1gMxWT4w",
        "outputId": "10e59f3e-df54-4db7-a42a-68152f276ade"
      },
      "execution_count": 10,
      "outputs": [
        {
          "output_type": "stream",
          "name": "stdout",
          "text": [
            "Train accuracy:  0.6472634508348795\n",
            "Test accuracy:  0.6024096385542169\n"
          ]
        }
      ]
    },
    {
      "cell_type": "markdown",
      "source": [
        "We get a model accuracy of around 60% on the test data using n=20 and m=10"
      ],
      "metadata": {
        "id": "DamCrYclCyDd"
      }
    },
    {
      "cell_type": "markdown",
      "source": [
        "We have executed the above code for a ten days look forward time period, but it would be useful to loop over a variety of different look forward times to see which has the most accuracy. We will keep the number of days in the past we use for the techincal indicators the same for now, but I hope to change this as well to maximise accuracy."
      ],
      "metadata": {
        "id": "mfnTSWGMVooJ"
      }
    },
    {
      "cell_type": "code",
      "source": [
        "\n",
        "def optimise(df1,df2):\n",
        "  df_a=prepare(df1)\n",
        "  df_b=prepare(df2)\n",
        "  ms=[]\n",
        "  accs=[]\n",
        "  for m in range(5,150,10):\n",
        "    ms.append(m)\n",
        "    df_a=feature_calc(df_a, days_in_past, m)\n",
        "    df_b=feature_calc(df_b, days_in_past, m)\n",
        "    df=Join(df_a,df_b)\n",
        "    X_train, y_train, X_test, y_test = Split_data(df)\n",
        "    clf=svm.SVC().fit(X_train, y_train)\n",
        "    y1, y2, acc=accuracies(X_train, X_test, y_train, y_test, clf)\n",
        "    accs.append(acc)\n",
        "  plt.figure(figsize=(12,7))\n",
        "  plt.plot(ms, accs)\n",
        "  plt.xlabel('m')\n",
        "  plt.ylabel('accuracy')\n",
        "  return accs\n"
      ],
      "metadata": {
        "id": "2vZ2_CWHW2cY"
      },
      "execution_count": 13,
      "outputs": []
    },
    {
      "cell_type": "code",
      "source": [
        "optimise(pd.read_csv('AAPL.csv'), pd.read_csv('SPY.csv'))"
      ],
      "metadata": {
        "colab": {
          "base_uri": "https://localhost:8080/",
          "height": 1000
        },
        "id": "PL_suAOFacXI",
        "outputId": "c9e5be48-da2f-4c2f-b875-2022357f1758"
      },
      "execution_count": 14,
      "outputs": [
        {
          "output_type": "stream",
          "name": "stdout",
          "text": [
            "Train accuracy:  0.616079703429101\n",
            "Test accuracy:  0.5796296296296296\n",
            "Train accuracy:  0.6674440298507462\n",
            "Test accuracy:  0.6222014925373134\n",
            "Train accuracy:  0.6847800517525288\n",
            "Test accuracy:  0.6190028222013171\n",
            "Train accuracy:  0.7058963385639563\n",
            "Test accuracy:  0.6321292775665399\n",
            "Train accuracy:  0.7291114856730074\n",
            "Test accuracy:  0.6775745909528392\n",
            "Train accuracy:  0.7333822091886608\n",
            "Test accuracy:  0.7109375\n",
            "Train accuracy:  0.7447813121272365\n",
            "Test accuracy:  0.7335984095427436\n",
            "Train accuracy:  0.7618444388142893\n",
            "Test accuracy:  0.7629179331306991\n",
            "Train accuracy:  0.7711030554117038\n",
            "Test accuracy:  0.8012422360248447\n",
            "Train accuracy:  0.7744759883258159\n",
            "Test accuracy:  0.8176033934252386\n",
            "Train accuracy:  0.7960741548527808\n",
            "Test accuracy:  0.7908496732026143\n",
            "Train accuracy:  0.8103932584269663\n",
            "Test accuracy:  0.7797752808988764\n",
            "Train accuracy:  0.8295091489979669\n",
            "Test accuracy:  0.7247386759581882\n",
            "Train accuracy:  0.8402652200120555\n",
            "Test accuracy:  0.6843373493975904\n",
            "Train accuracy:  0.8678178963893249\n",
            "Test accuracy:  0.7151819322459222\n"
          ]
        },
        {
          "output_type": "execute_result",
          "data": {
            "text/plain": [
              "[0.5796296296296296,\n",
              " 0.6222014925373134,\n",
              " 0.6190028222013171,\n",
              " 0.6321292775665399,\n",
              " 0.6775745909528392,\n",
              " 0.7109375,\n",
              " 0.7335984095427436,\n",
              " 0.7629179331306991,\n",
              " 0.8012422360248447,\n",
              " 0.8176033934252386,\n",
              " 0.7908496732026143,\n",
              " 0.7797752808988764,\n",
              " 0.7247386759581882,\n",
              " 0.6843373493975904,\n",
              " 0.7151819322459222]"
            ]
          },
          "metadata": {},
          "execution_count": 14
        },
        {
          "output_type": "display_data",
          "data": {
            "text/plain": [
              "<Figure size 864x504 with 1 Axes>"
            ],
            "image/png": "[encoded data removed]"
          },
          "metadata": {
            "needs_background": "light"
          }
        }
      ]
    },
    {
      "cell_type": "markdown",
      "source": [
        "Note in general the accuracy increases because of the general tendency of the stock to go up and so most of the training data will have an upwards signal and so the model also adapts this approach by predicting mostly upward movements and generating a higher accuracy. This would not be useful for a trading strategy as it is not too different to just going long the stock. We explore this further using confusion matrices below."
      ],
      "metadata": {
        "id": "OtFE9iI3DH6j"
      }
    },
    {
      "cell_type": "code",
      "source": [
        "from sklearn.metrics import confusion_matrix\n",
        "import seaborn as sns"
      ],
      "metadata": {
        "id": "3CdXXA9hO2K2"
      },
      "execution_count": 15,
      "outputs": []
    },
    {
      "cell_type": "code",
      "source": [
        "def conf_matrix(y,y_pred):\n",
        "  cf_matrix = confusion_matrix(y, y_pred)\n",
        "  sns.heatmap(cf_matrix, annot=True)"
      ],
      "metadata": {
        "id": "fBYdcK2lepty"
      },
      "execution_count": 16,
      "outputs": []
    },
    {
      "cell_type": "code",
      "source": [
        "def model_tester(df1, df2, n, m):\n",
        "  df_a=prepare(df1)\n",
        "  df_b=prepare(df2)\n",
        "  df_a=feature_calc(df_a, n, m)\n",
        "  df_b=feature_calc(df_b, n, m)\n",
        "  df=Join(df_a,df_b)\n",
        "  X_train, y_train, X_test, y_test = Split_data(df)\n",
        "  clf=svm.SVC().fit(X_train, y_train)\n",
        "  y1, y2, acc=accuracies(X_train, X_test, y_train, y_test, clf)\n",
        "  conf_matrix(y_test, y1)\n",
        "  return y1\n",
        "\n",
        "\n",
        "\n"
      ],
      "metadata": {
        "id": "WJNNLl-HcwRr"
      },
      "execution_count": 17,
      "outputs": []
    },
    {
      "cell_type": "code",
      "source": [
        "model_tester(pd.read_csv('AAPL.csv'), pd.read_csv('SPY.csv'), 20, 100)"
      ],
      "metadata": {
        "colab": {
          "base_uri": "https://localhost:8080/",
          "height": 317
        },
        "id": "Eb29aMqdfc3s",
        "outputId": "73b469f8-15da-4259-bfae-05260609f346"
      },
      "execution_count": 18,
      "outputs": [
        {
          "output_type": "stream",
          "name": "stdout",
          "text": [
            "Train accuracy:  0.8007075471698113\n",
            "Test accuracy:  0.7766258246936852\n"
          ]
        },
        {
          "output_type": "execute_result",
          "data": {
            "text/plain": [
              "array([1, 1, 1, ..., 1, 1, 1])"
            ]
          },
          "metadata": {},
          "execution_count": 18
        },
        {
          "output_type": "display_data",
          "data": {
            "text/plain": [
              "<Figure size 432x288 with 2 Axes>"
            ],
            "image/png": "[encoded data removed]"
          },
          "metadata": {
            "needs_background": "light"
          }
        }
      ]
    },
    {
      "cell_type": "markdown",
      "source": [
        "We see that the testing data predominately has labels 1 which the model mostly predicts correctly giving it a higher accuracy as the model has been trained to mostly guess one due to the nature of the increasing stock training data."
      ],
      "metadata": {
        "id": "mvtz6uiEDxD6"
      }
    },
    {
      "cell_type": "markdown",
      "source": [
        "# Implementing strategy\n",
        "Once we have a model, we can implement a trading strategy. A simple way of doing this is every m days we get a signal whether to buy the stock or short it. If we are already long the stock and get a signal to buy nothing happens, if however, we don't have a long position on the stock then we buy it. Similarly if we get a 0 signal and we are currently long the stock then we sell. "
      ],
      "metadata": {
        "id": "JJnRgvoqVbRO"
      }
    },
    {
      "cell_type": "code",
      "source": [
        "apl_t1=apl_df.iloc[::look_forward,:] # Make a dataframe containing every 10th day data with features from past n days, should techincally be 80% onwards but since test and train have roughly same accuracy just using this for more data\n",
        "apl_t1"
      ],
      "metadata": {
        "colab": {
          "base_uri": "https://localhost:8080/",
          "height": 455
        },
        "id": "xrMezx_GWYPT",
        "outputId": "916d9b1b-b77f-4192-9a1a-7db48420d336"
      },
      "execution_count": 19,
      "outputs": [
        {
          "output_type": "execute_result",
          "data": {
            "text/plain": [
              "                 Close     Volume  mreturns   returns  Move  momentum  \\\n",
              "Date                                                                    \n",
              "2001-02-01    0.377232  369695200  0.949705  0.976878     0  1.020088   \n",
              "2001-02-15    0.358259  311416000  0.959501  1.028847     0  1.008473   \n",
              "2001-03-02    0.343750  406201600  1.019479  1.026668     1  0.993470   \n",
              "2001-03-16    0.350446  470316000  1.124587  0.996823     1  1.001289   \n",
              "2001-03-30    0.394107  400349600  0.971454  0.979583     0  1.010211   \n",
              "...                ...        ...       ...       ...   ...       ...   \n",
              "2022-05-09  152.059998  131577900  0.941142  0.966811     0  0.995809   \n",
              "2022-05-23  143.110001  117726300  1.039131  1.040119     1  0.992408   \n",
              "2022-06-07  148.710007   67808200  0.910161  1.017586     0  0.996740   \n",
              "2022-06-22  135.350006   73409200  1.081271  0.996173     1  0.999718   \n",
              "2022-07-07  146.350006   66253700  1.061496  1.023999     1  0.999164   \n",
              "\n",
              "            volatility       volume        RSI  momentum_ind  volatility_ind  \\\n",
              "Date                                                                           \n",
              "2001-02-01    0.051266  662857440.0  75.155269      1.003195        0.014723   \n",
              "2001-02-15    0.047260  566254080.0  47.445112      0.999512        0.008778   \n",
              "2001-03-02    0.034612  367711400.0  38.235003      0.995334        0.012411   \n",
              "2001-03-16    0.041136  381355520.0  54.117672      0.994387        0.016758   \n",
              "2001-03-30    0.045546  503412560.0  58.944672      0.996401        0.020179   \n",
              "...                ...          ...        ...           ...             ...   \n",
              "2022-05-09    0.025601   92972440.0  41.629048      0.995822        0.018716   \n",
              "2022-05-23    0.031543  117154870.0  32.850639      0.995764        0.021480   \n",
              "2022-06-07    0.029143  107045775.0  50.691251      1.000210        0.018040   \n",
              "2022-06-22    0.026966   90564095.0  35.040359      0.998278        0.019428   \n",
              "2022-07-07    0.024033   83036100.0  64.350301      0.996579        0.018504   \n",
              "\n",
              "            Volume_ind    RSI_ind  \n",
              "Date                               \n",
              "2001-02-01     8239100  75.800516  \n",
              "2001-02-15     5929800  36.438126  \n",
              "2001-03-02    12564300  29.810446  \n",
              "2001-03-16    58514600  35.358006  \n",
              "2001-03-30     9183600  37.594450  \n",
              "...                ...        ...  \n",
              "2022-05-09   155586100  37.104114  \n",
              "2022-05-23    76414900  36.407393  \n",
              "2022-06-07    59272400  57.265276  \n",
              "2022-06-22    90059400  29.632042  \n",
              "2022-07-07    64525900  57.435005  \n",
              "\n",
              "[540 rows x 13 columns]"
            ],
            "text/html": [
              "\n",
              "  <div id=\"df-67640811-dfe6-4c16-a978-27e10a7561c1\">\n",
              "    <div class=\"colab-df-container\">\n",
              "      <div>\n",
              "<style scoped>\n",
              "    .dataframe tbody tr th:only-of-type {\n",
              "        vertical-align: middle;\n",
              "    }\n",
              "\n",
              "    .dataframe tbody tr th {\n",
              "        vertical-align: top;\n",
              "    }\n",
              "\n",
              "    .dataframe thead th {\n",
              "        text-align: right;\n",
              "    }\n",
              "</style>\n",
              "<table border=\"1\" class=\"dataframe\">\n",
              "  <thead>\n",
              "    <tr style=\"text-align: right;\">\n",
              "      <th></th>\n",
              "      <th>Close</th>\n",
              "      <th>Volume</th>\n",
              "      <th>mreturns</th>\n",
              "      <th>returns</th>\n",
              "      <th>Move</th>\n",
              "      <th>momentum</th>\n",
              "      <th>volatility</th>\n",
              "      <th>volume</th>\n",
              "      <th>RSI</th>\n",
              "      <th>momentum_ind</th>\n",
              "      <th>volatility_ind</th>\n",
              "      <th>Volume_ind</th>\n",
              "      <th>RSI_ind</th>\n",
              "    </tr>\n",
              "    <tr>\n",
              "      <th>Date</th>\n",
              "      <th></th>\n",
              "      <th></th>\n",
              "      <th></th>\n",
              "      <th></th>\n",
              "      <th></th>\n",
              "      <th></th>\n",
              "      <th></th>\n",
              "      <th></th>\n",
              "      <th></th>\n",
              "      <th></th>\n",
              "      <th></th>\n",
              "      <th></th>\n",
              "      <th></th>\n",
              "    </tr>\n",
              "  </thead>\n",
              "  <tbody>\n",
              "    <tr>\n",
              "      <th>2001-02-01</th>\n",
              "      <td>0.377232</td>\n",
              "      <td>369695200</td>\n",
              "      <td>0.949705</td>\n",
              "      <td>0.976878</td>\n",
              "      <td>0</td>\n",
              "      <td>1.020088</td>\n",
              "      <td>0.051266</td>\n",
              "      <td>662857440.0</td>\n",
              "      <td>75.155269</td>\n",
              "      <td>1.003195</td>\n",
              "      <td>0.014723</td>\n",
              "      <td>8239100</td>\n",
              "      <td>75.800516</td>\n",
              "    </tr>\n",
              "    <tr>\n",
              "      <th>2001-02-15</th>\n",
              "      <td>0.358259</td>\n",
              "      <td>311416000</td>\n",
              "      <td>0.959501</td>\n",
              "      <td>1.028847</td>\n",
              "      <td>0</td>\n",
              "      <td>1.008473</td>\n",
              "      <td>0.047260</td>\n",
              "      <td>566254080.0</td>\n",
              "      <td>47.445112</td>\n",
              "      <td>0.999512</td>\n",
              "      <td>0.008778</td>\n",
              "      <td>5929800</td>\n",
              "      <td>36.438126</td>\n",
              "    </tr>\n",
              "    <tr>\n",
              "      <th>2001-03-02</th>\n",
              "      <td>0.343750</td>\n",
              "      <td>406201600</td>\n",
              "      <td>1.019479</td>\n",
              "      <td>1.026668</td>\n",
              "      <td>1</td>\n",
              "      <td>0.993470</td>\n",
              "      <td>0.034612</td>\n",
              "      <td>367711400.0</td>\n",
              "      <td>38.235003</td>\n",
              "      <td>0.995334</td>\n",
              "      <td>0.012411</td>\n",
              "      <td>12564300</td>\n",
              "      <td>29.810446</td>\n",
              "    </tr>\n",
              "    <tr>\n",
              "      <th>2001-03-16</th>\n",
              "      <td>0.350446</td>\n",
              "      <td>470316000</td>\n",
              "      <td>1.124587</td>\n",
              "      <td>0.996823</td>\n",
              "      <td>1</td>\n",
              "      <td>1.001289</td>\n",
              "      <td>0.041136</td>\n",
              "      <td>381355520.0</td>\n",
              "      <td>54.117672</td>\n",
              "      <td>0.994387</td>\n",
              "      <td>0.016758</td>\n",
              "      <td>58514600</td>\n",
              "      <td>35.358006</td>\n",
              "    </tr>\n",
              "    <tr>\n",
              "      <th>2001-03-30</th>\n",
              "      <td>0.394107</td>\n",
              "      <td>400349600</td>\n",
              "      <td>0.971454</td>\n",
              "      <td>0.979583</td>\n",
              "      <td>0</td>\n",
              "      <td>1.010211</td>\n",
              "      <td>0.045546</td>\n",
              "      <td>503412560.0</td>\n",
              "      <td>58.944672</td>\n",
              "      <td>0.996401</td>\n",
              "      <td>0.020179</td>\n",
              "      <td>9183600</td>\n",
              "      <td>37.594450</td>\n",
              "    </tr>\n",
              "    <tr>\n",
              "      <th>...</th>\n",
              "      <td>...</td>\n",
              "      <td>...</td>\n",
              "      <td>...</td>\n",
              "      <td>...</td>\n",
              "      <td>...</td>\n",
              "      <td>...</td>\n",
              "      <td>...</td>\n",
              "      <td>...</td>\n",
              "      <td>...</td>\n",
              "      <td>...</td>\n",
              "      <td>...</td>\n",
              "      <td>...</td>\n",
              "      <td>...</td>\n",
              "    </tr>\n",
              "    <tr>\n",
              "      <th>2022-05-09</th>\n",
              "      <td>152.059998</td>\n",
              "      <td>131577900</td>\n",
              "      <td>0.941142</td>\n",
              "      <td>0.966811</td>\n",
              "      <td>0</td>\n",
              "      <td>0.995809</td>\n",
              "      <td>0.025601</td>\n",
              "      <td>92972440.0</td>\n",
              "      <td>41.629048</td>\n",
              "      <td>0.995822</td>\n",
              "      <td>0.018716</td>\n",
              "      <td>155586100</td>\n",
              "      <td>37.104114</td>\n",
              "    </tr>\n",
              "    <tr>\n",
              "      <th>2022-05-23</th>\n",
              "      <td>143.110001</td>\n",
              "      <td>117726300</td>\n",
              "      <td>1.039131</td>\n",
              "      <td>1.040119</td>\n",
              "      <td>1</td>\n",
              "      <td>0.992408</td>\n",
              "      <td>0.031543</td>\n",
              "      <td>117154870.0</td>\n",
              "      <td>32.850639</td>\n",
              "      <td>0.995764</td>\n",
              "      <td>0.021480</td>\n",
              "      <td>76414900</td>\n",
              "      <td>36.407393</td>\n",
              "    </tr>\n",
              "    <tr>\n",
              "      <th>2022-06-07</th>\n",
              "      <td>148.710007</td>\n",
              "      <td>67808200</td>\n",
              "      <td>0.910161</td>\n",
              "      <td>1.017586</td>\n",
              "      <td>0</td>\n",
              "      <td>0.996740</td>\n",
              "      <td>0.029143</td>\n",
              "      <td>107045775.0</td>\n",
              "      <td>50.691251</td>\n",
              "      <td>1.000210</td>\n",
              "      <td>0.018040</td>\n",
              "      <td>59272400</td>\n",
              "      <td>57.265276</td>\n",
              "    </tr>\n",
              "    <tr>\n",
              "      <th>2022-06-22</th>\n",
              "      <td>135.350006</td>\n",
              "      <td>73409200</td>\n",
              "      <td>1.081271</td>\n",
              "      <td>0.996173</td>\n",
              "      <td>1</td>\n",
              "      <td>0.999718</td>\n",
              "      <td>0.026966</td>\n",
              "      <td>90564095.0</td>\n",
              "      <td>35.040359</td>\n",
              "      <td>0.998278</td>\n",
              "      <td>0.019428</td>\n",
              "      <td>90059400</td>\n",
              "      <td>29.632042</td>\n",
              "    </tr>\n",
              "    <tr>\n",
              "      <th>2022-07-07</th>\n",
              "      <td>146.350006</td>\n",
              "      <td>66253700</td>\n",
              "      <td>1.061496</td>\n",
              "      <td>1.023999</td>\n",
              "      <td>1</td>\n",
              "      <td>0.999164</td>\n",
              "      <td>0.024033</td>\n",
              "      <td>83036100.0</td>\n",
              "      <td>64.350301</td>\n",
              "      <td>0.996579</td>\n",
              "      <td>0.018504</td>\n",
              "      <td>64525900</td>\n",
              "      <td>57.435005</td>\n",
              "    </tr>\n",
              "  </tbody>\n",
              "</table>\n",
              "<p>540 rows × 13 columns</p>\n",
              "</div>\n",
              "      <button class=\"colab-df-convert\" onclick=\"convertToInteractive('df-67640811-dfe6-4c16-a978-27e10a7561c1')\"\n",
              "              title=\"Convert this dataframe to an interactive table.\"\n",
              "              style=\"display:none;\">\n",
              "        \n",
              "  <svg xmlns=\"http://www.w3.org/2000/svg\" height=\"24px\"viewBox=\"0 0 24 24\"\n",
              "       width=\"24px\">\n",
              "    <path d=\"M0 0h24v24H0V0z\" fill=\"none\"/>\n",
              "    <path d=\"M18.56 5.44l.94 2.06.94-2.06 2.06-.94-2.06-.94-.94-2.06-.94 2.06-2.06.94zm-11 1L8.5 8.5l.94-2.06 2.06-.94-2.06-.94L8.5 2.5l-.94 2.06-2.06.94zm10 10l.94 2.06.94-2.06 2.06-.94-2.06-.94-.94-2.06-.94 2.06-2.06.94z\"/><path d=\"M17.41 7.96l-1.37-1.37c-.4-.4-.92-.59-1.43-.59-.52 0-1.04.2-1.43.59L10.3 9.45l-7.72 7.72c-.78.78-.78 2.05 0 2.83L4 21.41c.39.39.9.59 1.41.59.51 0 1.02-.2 1.41-.59l7.78-7.78 2.81-2.81c.8-.78.8-2.07 0-2.86zM5.41 20L4 18.59l7.72-7.72 1.47 1.35L5.41 20z\"/>\n",
              "  </svg>\n",
              "      </button>\n",
              "      \n",
              "  <style>\n",
              "    .colab-df-container {\n",
              "      display:flex;\n",
              "      flex-wrap:wrap;\n",
              "      gap: 12px;\n",
              "    }\n",
              "\n",
              "    .colab-df-convert {\n",
              "      background-color: #E8F0FE;\n",
              "      border: none;\n",
              "      border-radius: 50%;\n",
              "      cursor: pointer;\n",
              "      display: none;\n",
              "      fill: #1967D2;\n",
              "      height: 32px;\n",
              "      padding: 0 0 0 0;\n",
              "      width: 32px;\n",
              "    }\n",
              "\n",
              "    .colab-df-convert:hover {\n",
              "      background-color: #E2EBFA;\n",
              "      box-shadow: 0px 1px 2px rgba(60, 64, 67, 0.3), 0px 1px 3px 1px rgba(60, 64, 67, 0.15);\n",
              "      fill: #174EA6;\n",
              "    }\n",
              "\n",
              "    [theme=dark] .colab-df-convert {\n",
              "      background-color: #3B4455;\n",
              "      fill: #D2E3FC;\n",
              "    }\n",
              "\n",
              "    [theme=dark] .colab-df-convert:hover {\n",
              "      background-color: #434B5C;\n",
              "      box-shadow: 0px 1px 3px 1px rgba(0, 0, 0, 0.15);\n",
              "      filter: drop-shadow(0px 1px 2px rgba(0, 0, 0, 0.3));\n",
              "      fill: #FFFFFF;\n",
              "    }\n",
              "  </style>\n",
              "\n",
              "      <script>\n",
              "        const buttonEl =\n",
              "          document.querySelector('#df-67640811-dfe6-4c16-a978-27e10a7561c1 button.colab-df-convert');\n",
              "        buttonEl.style.display =\n",
              "          google.colab.kernel.accessAllowed ? 'block' : 'none';\n",
              "\n",
              "        async function convertToInteractive(key) {\n",
              "          const element = document.querySelector('#df-67640811-dfe6-4c16-a978-27e10a7561c1');\n",
              "          const dataTable =\n",
              "            await google.colab.kernel.invokeFunction('convertToInteractive',\n",
              "                                                     [key], {});\n",
              "          if (!dataTable) return;\n",
              "\n",
              "          const docLinkHtml = 'Like what you see? Visit the ' +\n",
              "            '<a target=\"_blank\" href=https://colab.research.google.com/notebooks/data_table.ipynb>data table notebook</a>'\n",
              "            + ' to learn more about interactive tables.';\n",
              "          element.innerHTML = '';\n",
              "          dataTable['output_type'] = 'display_data';\n",
              "          await google.colab.output.renderOutput(dataTable, element);\n",
              "          const docLink = document.createElement('div');\n",
              "          docLink.innerHTML = docLinkHtml;\n",
              "          element.appendChild(docLink);\n",
              "        }\n",
              "      </script>\n",
              "    </div>\n",
              "  </div>\n",
              "  "
            ]
          },
          "metadata": {},
          "execution_count": 19
        }
      ]
    },
    {
      "cell_type": "code",
      "source": [
        "def m_day_preds(df, classifier):\n",
        "  '''\n",
        "  Takes a dataframe applies the classifier to the dataframe and records all the predictions.\n",
        "  The function then also outputs the accuracy of the classifier\n",
        "  '''\n",
        "\n",
        "  X=df[features]\n",
        "  y=df['Move']\n",
        "  y=np.array(y)\n",
        "  scaler=preprocessing.StandardScaler()\n",
        "  X=scaler.fit_transform(X)\n",
        "  y_predicted=classifier.predict(X)\n",
        "  print('The accuracy for the m day strategy is: ',accuracy_score(y, y_predicted))\n",
        "  return y_predicted\n",
        "\n",
        "pred_m_day_moves=m_day_preds(apl_t1, classifier)"
      ],
      "metadata": {
        "colab": {
          "base_uri": "https://localhost:8080/"
        },
        "id": "Pf9VCr2OcGrz",
        "outputId": "23bb17ad-fa1f-46d7-c1f7-fc1f751ca556"
      },
      "execution_count": 20,
      "outputs": [
        {
          "output_type": "stream",
          "name": "stdout",
          "text": [
            "The accuracy for the m day strategy is:  0.6370370370370371\n"
          ]
        }
      ]
    },
    {
      "cell_type": "code",
      "source": [
        "\n",
        "def add_cash(df):\n",
        "  cash=[] # Will store how much cash you have after making that days trades\n",
        "  if df.predictions[0]==1:\n",
        "    cash.append(0)\n",
        "  else:\n",
        "    cash.append(df.Close[0])\n",
        "  for index in range(1, df.shape[0]):\n",
        "    if df.predictions[index]==1 and df.predictions[index-1]==0:\n",
        "      cash.append(cash[index-1]-df.Close[index])\n",
        "    elif df.predictions[index]==0 and df.predictions[index-1]==1:\n",
        "      cash.append(cash[index-1]+df.Close[index])\n",
        "    else:\n",
        "      if cash[index-1]<0:\n",
        "        cash.append(0)    # If the cash for the m days before was negative and we are still in same position then we have neutralised the cash\n",
        "                          # position by additional investment. This is merely conventional and due to how add_Costs is defined doesn't make diff to results from previous method\n",
        "      else:\n",
        "        cash.append(cash[index-1])\n",
        "  df['Cash']=cash\n",
        "  print(len(cash))\n",
        "  return df\n",
        "\n",
        "\n",
        "def add_Costs(df):\n",
        "  add_cost=[0]\n",
        "  for i in range(1, df.shape[0]):\n",
        "    if df.predictions[i-1]==0 and df.predictions[i]==1:\n",
        "      if df.Cash[i]<0:\n",
        "        add_cost.append(-df.Cash[i])\n",
        "      else:\n",
        "        add_cost.append(0)\n",
        "    else:\n",
        "      add_cost.append(0)\n",
        "  df['add_costs']=add_cost\n",
        "  return df\n",
        "\n",
        "def add_predictions(df, preds):\n",
        "  df['predictions']=preds\n",
        "  df=add_cash(df)\n",
        "  df=add_Costs(df)\n",
        "  df['money_made']=(df['mreturns']-1)*df.Close*df.predictions -df['add_costs'] # This column will store how much money will make in the next 10 days due to the trade\n",
        "  df['Cum_money_made']=df['money_made'].cumsum() \n",
        "  df['poss_money']=(df['mreturns']-1)*df.Close*df.Move\n",
        "  df['Max_money']=df['poss_money'].cumsum()\n",
        "  df.dropna(inplace=True)\n",
        "  return df\n",
        "\n",
        "apl_t1=add_predictions(apl_t1, pred_m_day_moves)\n",
        "apl_t1.head(8)"
      ],
      "metadata": {
        "colab": {
          "base_uri": "https://localhost:8080/",
          "height": 1000
        },
        "id": "Uv1Qb-Mebn0_",
        "outputId": "6a17714a-e936-4c26-baae-c5e3ee622f0f"
      },
      "execution_count": 22,
      "outputs": [
        {
          "output_type": "stream",
          "name": "stdout",
          "text": [
            "540\n"
          ]
        },
        {
          "output_type": "stream",
          "name": "stderr",
          "text": [
            "/usr/local/lib/python3.7/dist-packages/ipykernel_launcher.py:38: SettingWithCopyWarning: \n",
            "A value is trying to be set on a copy of a slice from a DataFrame.\n",
            "Try using .loc[row_indexer,col_indexer] = value instead\n",
            "\n",
            "See the caveats in the documentation: https://pandas.pydata.org/pandas-docs/stable/user_guide/indexing.html#returning-a-view-versus-a-copy\n",
            "/usr/local/lib/python3.7/dist-packages/ipykernel_launcher.py:19: SettingWithCopyWarning: \n",
            "A value is trying to be set on a copy of a slice from a DataFrame.\n",
            "Try using .loc[row_indexer,col_indexer] = value instead\n",
            "\n",
            "See the caveats in the documentation: https://pandas.pydata.org/pandas-docs/stable/user_guide/indexing.html#returning-a-view-versus-a-copy\n",
            "/usr/local/lib/python3.7/dist-packages/ipykernel_launcher.py:34: SettingWithCopyWarning: \n",
            "A value is trying to be set on a copy of a slice from a DataFrame.\n",
            "Try using .loc[row_indexer,col_indexer] = value instead\n",
            "\n",
            "See the caveats in the documentation: https://pandas.pydata.org/pandas-docs/stable/user_guide/indexing.html#returning-a-view-versus-a-copy\n",
            "/usr/local/lib/python3.7/dist-packages/ipykernel_launcher.py:41: SettingWithCopyWarning: \n",
            "A value is trying to be set on a copy of a slice from a DataFrame.\n",
            "Try using .loc[row_indexer,col_indexer] = value instead\n",
            "\n",
            "See the caveats in the documentation: https://pandas.pydata.org/pandas-docs/stable/user_guide/indexing.html#returning-a-view-versus-a-copy\n",
            "/usr/local/lib/python3.7/dist-packages/ipykernel_launcher.py:42: SettingWithCopyWarning: \n",
            "A value is trying to be set on a copy of a slice from a DataFrame.\n",
            "Try using .loc[row_indexer,col_indexer] = value instead\n",
            "\n",
            "See the caveats in the documentation: https://pandas.pydata.org/pandas-docs/stable/user_guide/indexing.html#returning-a-view-versus-a-copy\n",
            "/usr/local/lib/python3.7/dist-packages/ipykernel_launcher.py:43: SettingWithCopyWarning: \n",
            "A value is trying to be set on a copy of a slice from a DataFrame.\n",
            "Try using .loc[row_indexer,col_indexer] = value instead\n",
            "\n",
            "See the caveats in the documentation: https://pandas.pydata.org/pandas-docs/stable/user_guide/indexing.html#returning-a-view-versus-a-copy\n",
            "/usr/local/lib/python3.7/dist-packages/ipykernel_launcher.py:44: SettingWithCopyWarning: \n",
            "A value is trying to be set on a copy of a slice from a DataFrame.\n",
            "Try using .loc[row_indexer,col_indexer] = value instead\n",
            "\n",
            "See the caveats in the documentation: https://pandas.pydata.org/pandas-docs/stable/user_guide/indexing.html#returning-a-view-versus-a-copy\n",
            "/usr/local/lib/python3.7/dist-packages/pandas/util/_decorators.py:311: SettingWithCopyWarning: \n",
            "A value is trying to be set on a copy of a slice from a DataFrame\n",
            "\n",
            "See the caveats in the documentation: https://pandas.pydata.org/pandas-docs/stable/user_guide/indexing.html#returning-a-view-versus-a-copy\n",
            "  return func(*args, **kwargs)\n"
          ]
        },
        {
          "output_type": "execute_result",
          "data": {
            "text/plain": [
              "               Close     Volume  mreturns   returns  Move  momentum  \\\n",
              "Date                                                                  \n",
              "2001-02-01  0.377232  369695200  0.949705  0.976878     0  1.020088   \n",
              "2001-02-15  0.358259  311416000  0.959501  1.028847     0  1.008473   \n",
              "2001-03-02  0.343750  406201600  1.019479  1.026668     1  0.993470   \n",
              "2001-03-16  0.350446  470316000  1.124587  0.996823     1  1.001289   \n",
              "2001-03-30  0.394107  400349600  0.971454  0.979583     0  1.010211   \n",
              "2001-04-16  0.382857  285224800  1.188901  0.956289     1  1.007437   \n",
              "2001-04-30  0.455179  494776800  0.913691  0.972902     0  1.008942   \n",
              "2001-05-14  0.415893  309220800  0.921855  1.019256     0  1.002168   \n",
              "\n",
              "            volatility       volume        RSI  momentum_ind  volatility_ind  \\\n",
              "Date                                                                           \n",
              "2001-02-01    0.051266  662857440.0  75.155269      1.003195        0.014723   \n",
              "2001-02-15    0.047260  566254080.0  47.445112      0.999512        0.008778   \n",
              "2001-03-02    0.034612  367711400.0  38.235003      0.995334        0.012411   \n",
              "2001-03-16    0.041136  381355520.0  54.117672      0.994387        0.016758   \n",
              "2001-03-30    0.045546  503412560.0  58.944672      0.996401        0.020179   \n",
              "2001-04-16    0.044204  488258400.0  47.227531      1.000706        0.021093   \n",
              "2001-04-30    0.054667  553228200.0  70.519365      1.004449        0.018822   \n",
              "2001-05-14    0.051647  521127040.0  42.693050      1.002672        0.013564   \n",
              "\n",
              "            Volume_ind    RSI_ind  predictions      Cash  add_costs  \\\n",
              "Date                                                                  \n",
              "2001-02-01     8239100  75.800516            0  0.377232        0.0   \n",
              "2001-02-15     5929800  36.438126            0  0.377232        0.0   \n",
              "2001-03-02    12564300  29.810446            1  0.033482        0.0   \n",
              "2001-03-16    58514600  35.358006            1  0.033482        0.0   \n",
              "2001-03-30     9183600  37.594450            0  0.427589        0.0   \n",
              "2001-04-16     7350000  58.089589            1  0.044732        0.0   \n",
              "2001-04-30    10766900  76.989615            0  0.499911        0.0   \n",
              "2001-05-14     7914000  61.166570            0  0.499911        0.0   \n",
              "\n",
              "            money_made  Cum_money_made  poss_money  Max_money  \n",
              "Date                                                           \n",
              "2001-02-01   -0.000000       -0.000000   -0.000000  -0.000000  \n",
              "2001-02-15   -0.000000       -0.000000   -0.000000  -0.000000  \n",
              "2001-03-02    0.006696        0.006696    0.006696   0.006696  \n",
              "2001-03-16    0.043661        0.050357    0.043661   0.050357  \n",
              "2001-03-30   -0.000000        0.050357   -0.000000   0.050357  \n",
              "2001-04-16    0.072322        0.122679    0.072322   0.122679  \n",
              "2001-04-30   -0.000000        0.122679   -0.000000   0.122679  \n",
              "2001-05-14   -0.000000        0.122679   -0.000000   0.122679  "
            ],
            "text/html": [
              "\n",
              "  <div id=\"df-ab0df80d-cd6b-40b4-80c1-ed005c49ebff\">\n",
              "    <div class=\"colab-df-container\">\n",
              "      <div>\n",
              "<style scoped>\n",
              "    .dataframe tbody tr th:only-of-type {\n",
              "        vertical-align: middle;\n",
              "    }\n",
              "\n",
              "    .dataframe tbody tr th {\n",
              "        vertical-align: top;\n",
              "    }\n",
              "\n",
              "    .dataframe thead th {\n",
              "        text-align: right;\n",
              "    }\n",
              "</style>\n",
              "<table border=\"1\" class=\"dataframe\">\n",
              "  <thead>\n",
              "    <tr style=\"text-align: right;\">\n",
              "      <th></th>\n",
              "      <th>Close</th>\n",
              "      <th>Volume</th>\n",
              "      <th>mreturns</th>\n",
              "      <th>returns</th>\n",
              "      <th>Move</th>\n",
              "      <th>momentum</th>\n",
              "      <th>volatility</th>\n",
              "      <th>volume</th>\n",
              "      <th>RSI</th>\n",
              "      <th>momentum_ind</th>\n",
              "      <th>volatility_ind</th>\n",
              "      <th>Volume_ind</th>\n",
              "      <th>RSI_ind</th>\n",
              "      <th>predictions</th>\n",
              "      <th>Cash</th>\n",
              "      <th>add_costs</th>\n",
              "      <th>money_made</th>\n",
              "      <th>Cum_money_made</th>\n",
              "      <th>poss_money</th>\n",
              "      <th>Max_money</th>\n",
              "    </tr>\n",
              "    <tr>\n",
              "      <th>Date</th>\n",
              "      <th></th>\n",
              "      <th></th>\n",
              "      <th></th>\n",
              "      <th></th>\n",
              "      <th></th>\n",
              "      <th></th>\n",
              "      <th></th>\n",
              "      <th></th>\n",
              "      <th></th>\n",
              "      <th></th>\n",
              "      <th></th>\n",
              "      <th></th>\n",
              "      <th></th>\n",
              "      <th></th>\n",
              "      <th></th>\n",
              "      <th></th>\n",
              "      <th></th>\n",
              "      <th></th>\n",
              "      <th></th>\n",
              "      <th></th>\n",
              "    </tr>\n",
              "  </thead>\n",
              "  <tbody>\n",
              "    <tr>\n",
              "      <th>2001-02-01</th>\n",
              "      <td>0.377232</td>\n",
              "      <td>369695200</td>\n",
              "      <td>0.949705</td>\n",
              "      <td>0.976878</td>\n",
              "      <td>0</td>\n",
              "      <td>1.020088</td>\n",
              "      <td>0.051266</td>\n",
              "      <td>662857440.0</td>\n",
              "      <td>75.155269</td>\n",
              "      <td>1.003195</td>\n",
              "      <td>0.014723</td>\n",
              "      <td>8239100</td>\n",
              "      <td>75.800516</td>\n",
              "      <td>0</td>\n",
              "      <td>0.377232</td>\n",
              "      <td>0.0</td>\n",
              "      <td>-0.000000</td>\n",
              "      <td>-0.000000</td>\n",
              "      <td>-0.000000</td>\n",
              "      <td>-0.000000</td>\n",
              "    </tr>\n",
              "    <tr>\n",
              "      <th>2001-02-15</th>\n",
              "      <td>0.358259</td>\n",
              "      <td>311416000</td>\n",
              "      <td>0.959501</td>\n",
              "      <td>1.028847</td>\n",
              "      <td>0</td>\n",
              "      <td>1.008473</td>\n",
              "      <td>0.047260</td>\n",
              "      <td>566254080.0</td>\n",
              "      <td>47.445112</td>\n",
              "      <td>0.999512</td>\n",
              "      <td>0.008778</td>\n",
              "      <td>5929800</td>\n",
              "      <td>36.438126</td>\n",
              "      <td>0</td>\n",
              "      <td>0.377232</td>\n",
              "      <td>0.0</td>\n",
              "      <td>-0.000000</td>\n",
              "      <td>-0.000000</td>\n",
              "      <td>-0.000000</td>\n",
              "      <td>-0.000000</td>\n",
              "    </tr>\n",
              "    <tr>\n",
              "      <th>2001-03-02</th>\n",
              "      <td>0.343750</td>\n",
              "      <td>406201600</td>\n",
              "      <td>1.019479</td>\n",
              "      <td>1.026668</td>\n",
              "      <td>1</td>\n",
              "      <td>0.993470</td>\n",
              "      <td>0.034612</td>\n",
              "      <td>367711400.0</td>\n",
              "      <td>38.235003</td>\n",
              "      <td>0.995334</td>\n",
              "      <td>0.012411</td>\n",
              "      <td>12564300</td>\n",
              "      <td>29.810446</td>\n",
              "      <td>1</td>\n",
              "      <td>0.033482</td>\n",
              "      <td>0.0</td>\n",
              "      <td>0.006696</td>\n",
              "      <td>0.006696</td>\n",
              "      <td>0.006696</td>\n",
              "      <td>0.006696</td>\n",
              "    </tr>\n",
              "    <tr>\n",
              "      <th>2001-03-16</th>\n",
              "      <td>0.350446</td>\n",
              "      <td>470316000</td>\n",
              "      <td>1.124587</td>\n",
              "      <td>0.996823</td>\n",
              "      <td>1</td>\n",
              "      <td>1.001289</td>\n",
              "      <td>0.041136</td>\n",
              "      <td>381355520.0</td>\n",
              "      <td>54.117672</td>\n",
              "      <td>0.994387</td>\n",
              "      <td>0.016758</td>\n",
              "      <td>58514600</td>\n",
              "      <td>35.358006</td>\n",
              "      <td>1</td>\n",
              "      <td>0.033482</td>\n",
              "      <td>0.0</td>\n",
              "      <td>0.043661</td>\n",
              "      <td>0.050357</td>\n",
              "      <td>0.043661</td>\n",
              "      <td>0.050357</td>\n",
              "    </tr>\n",
              "    <tr>\n",
              "      <th>2001-03-30</th>\n",
              "      <td>0.394107</td>\n",
              "      <td>400349600</td>\n",
              "      <td>0.971454</td>\n",
              "      <td>0.979583</td>\n",
              "      <td>0</td>\n",
              "      <td>1.010211</td>\n",
              "      <td>0.045546</td>\n",
              "      <td>503412560.0</td>\n",
              "      <td>58.944672</td>\n",
              "      <td>0.996401</td>\n",
              "      <td>0.020179</td>\n",
              "      <td>9183600</td>\n",
              "      <td>37.594450</td>\n",
              "      <td>0</td>\n",
              "      <td>0.427589</td>\n",
              "      <td>0.0</td>\n",
              "      <td>-0.000000</td>\n",
              "      <td>0.050357</td>\n",
              "      <td>-0.000000</td>\n",
              "      <td>0.050357</td>\n",
              "    </tr>\n",
              "    <tr>\n",
              "      <th>2001-04-16</th>\n",
              "      <td>0.382857</td>\n",
              "      <td>285224800</td>\n",
              "      <td>1.188901</td>\n",
              "      <td>0.956289</td>\n",
              "      <td>1</td>\n",
              "      <td>1.007437</td>\n",
              "      <td>0.044204</td>\n",
              "      <td>488258400.0</td>\n",
              "      <td>47.227531</td>\n",
              "      <td>1.000706</td>\n",
              "      <td>0.021093</td>\n",
              "      <td>7350000</td>\n",
              "      <td>58.089589</td>\n",
              "      <td>1</td>\n",
              "      <td>0.044732</td>\n",
              "      <td>0.0</td>\n",
              "      <td>0.072322</td>\n",
              "      <td>0.122679</td>\n",
              "      <td>0.072322</td>\n",
              "      <td>0.122679</td>\n",
              "    </tr>\n",
              "    <tr>\n",
              "      <th>2001-04-30</th>\n",
              "      <td>0.455179</td>\n",
              "      <td>494776800</td>\n",
              "      <td>0.913691</td>\n",
              "      <td>0.972902</td>\n",
              "      <td>0</td>\n",
              "      <td>1.008942</td>\n",
              "      <td>0.054667</td>\n",
              "      <td>553228200.0</td>\n",
              "      <td>70.519365</td>\n",
              "      <td>1.004449</td>\n",
              "      <td>0.018822</td>\n",
              "      <td>10766900</td>\n",
              "      <td>76.989615</td>\n",
              "      <td>0</td>\n",
              "      <td>0.499911</td>\n",
              "      <td>0.0</td>\n",
              "      <td>-0.000000</td>\n",
              "      <td>0.122679</td>\n",
              "      <td>-0.000000</td>\n",
              "      <td>0.122679</td>\n",
              "    </tr>\n",
              "    <tr>\n",
              "      <th>2001-05-14</th>\n",
              "      <td>0.415893</td>\n",
              "      <td>309220800</td>\n",
              "      <td>0.921855</td>\n",
              "      <td>1.019256</td>\n",
              "      <td>0</td>\n",
              "      <td>1.002168</td>\n",
              "      <td>0.051647</td>\n",
              "      <td>521127040.0</td>\n",
              "      <td>42.693050</td>\n",
              "      <td>1.002672</td>\n",
              "      <td>0.013564</td>\n",
              "      <td>7914000</td>\n",
              "      <td>61.166570</td>\n",
              "      <td>0</td>\n",
              "      <td>0.499911</td>\n",
              "      <td>0.0</td>\n",
              "      <td>-0.000000</td>\n",
              "      <td>0.122679</td>\n",
              "      <td>-0.000000</td>\n",
              "      <td>0.122679</td>\n",
              "    </tr>\n",
              "  </tbody>\n",
              "</table>\n",
              "</div>\n",
              "      <button class=\"colab-df-convert\" onclick=\"convertToInteractive('df-ab0df80d-cd6b-40b4-80c1-ed005c49ebff')\"\n",
              "              title=\"Convert this dataframe to an interactive table.\"\n",
              "              style=\"display:none;\">\n",
              "        \n",
              "  <svg xmlns=\"http://www.w3.org/2000/svg\" height=\"24px\"viewBox=\"0 0 24 24\"\n",
              "       width=\"24px\">\n",
              "    <path d=\"M0 0h24v24H0V0z\" fill=\"none\"/>\n",
              "    <path d=\"M18.56 5.44l.94 2.06.94-2.06 2.06-.94-2.06-.94-.94-2.06-.94 2.06-2.06.94zm-11 1L8.5 8.5l.94-2.06 2.06-.94-2.06-.94L8.5 2.5l-.94 2.06-2.06.94zm10 10l.94 2.06.94-2.06 2.06-.94-2.06-.94-.94-2.06-.94 2.06-2.06.94z\"/><path d=\"M17.41 7.96l-1.37-1.37c-.4-.4-.92-.59-1.43-.59-.52 0-1.04.2-1.43.59L10.3 9.45l-7.72 7.72c-.78.78-.78 2.05 0 2.83L4 21.41c.39.39.9.59 1.41.59.51 0 1.02-.2 1.41-.59l7.78-7.78 2.81-2.81c.8-.78.8-2.07 0-2.86zM5.41 20L4 18.59l7.72-7.72 1.47 1.35L5.41 20z\"/>\n",
              "  </svg>\n",
              "      </button>\n",
              "      \n",
              "  <style>\n",
              "    .colab-df-container {\n",
              "      display:flex;\n",
              "      flex-wrap:wrap;\n",
              "      gap: 12px;\n",
              "    }\n",
              "\n",
              "    .colab-df-convert {\n",
              "      background-color: #E8F0FE;\n",
              "      border: none;\n",
              "      border-radius: 50%;\n",
              "      cursor: pointer;\n",
              "      display: none;\n",
              "      fill: #1967D2;\n",
              "      height: 32px;\n",
              "      padding: 0 0 0 0;\n",
              "      width: 32px;\n",
              "    }\n",
              "\n",
              "    .colab-df-convert:hover {\n",
              "      background-color: #E2EBFA;\n",
              "      box-shadow: 0px 1px 2px rgba(60, 64, 67, 0.3), 0px 1px 3px 1px rgba(60, 64, 67, 0.15);\n",
              "      fill: #174EA6;\n",
              "    }\n",
              "\n",
              "    [theme=dark] .colab-df-convert {\n",
              "      background-color: #3B4455;\n",
              "      fill: #D2E3FC;\n",
              "    }\n",
              "\n",
              "    [theme=dark] .colab-df-convert:hover {\n",
              "      background-color: #434B5C;\n",
              "      box-shadow: 0px 1px 3px 1px rgba(0, 0, 0, 0.15);\n",
              "      filter: drop-shadow(0px 1px 2px rgba(0, 0, 0, 0.3));\n",
              "      fill: #FFFFFF;\n",
              "    }\n",
              "  </style>\n",
              "\n",
              "      <script>\n",
              "        const buttonEl =\n",
              "          document.querySelector('#df-ab0df80d-cd6b-40b4-80c1-ed005c49ebff button.colab-df-convert');\n",
              "        buttonEl.style.display =\n",
              "          google.colab.kernel.accessAllowed ? 'block' : 'none';\n",
              "\n",
              "        async function convertToInteractive(key) {\n",
              "          const element = document.querySelector('#df-ab0df80d-cd6b-40b4-80c1-ed005c49ebff');\n",
              "          const dataTable =\n",
              "            await google.colab.kernel.invokeFunction('convertToInteractive',\n",
              "                                                     [key], {});\n",
              "          if (!dataTable) return;\n",
              "\n",
              "          const docLinkHtml = 'Like what you see? Visit the ' +\n",
              "            '<a target=\"_blank\" href=https://colab.research.google.com/notebooks/data_table.ipynb>data table notebook</a>'\n",
              "            + ' to learn more about interactive tables.';\n",
              "          element.innerHTML = '';\n",
              "          dataTable['output_type'] = 'display_data';\n",
              "          await google.colab.output.renderOutput(dataTable, element);\n",
              "          const docLink = document.createElement('div');\n",
              "          docLink.innerHTML = docLinkHtml;\n",
              "          element.appendChild(docLink);\n",
              "        }\n",
              "      </script>\n",
              "    </div>\n",
              "  </div>\n",
              "  "
            ]
          },
          "metadata": {},
          "execution_count": 22
        }
      ]
    },
    {
      "cell_type": "markdown",
      "source": [
        "Some things to note abput the data frame the omney made column shows how much money you will have m days after the date that is currently given so techincally we should shift the columns concerning money one down, but I think this way is more intuitive as it goes along the lines of: We have this data upon which we have made a prediction and this is how much money the prediction makes us over the next m days. The returns column recall indicates the return over one day and doesn't have much usefulness in the context of this table, but I have kept it in case it becomes of some use in intermediate calculations."
      ],
      "metadata": {
        "id": "VWHq7IVMfA_C"
      }
    },
    {
      "cell_type": "markdown",
      "source": [
        "Below is a function to plot the returns of the strategy in comparison to simply just holding the stock. It also plots the max possible money you can make from such a strategy if the accuracy of the model was 100%. Something to note about the particular plot below is we have used data which included the training data, we remove this in later plots and is only included as both training and test sets have similar accuracy so this plot gives insight into how much return you expect to make over a long period of time."
      ],
      "metadata": {
        "id": "4Gq5QtiEWp7J"
      }
    },
    {
      "cell_type": "code",
      "source": [
        "def plot_returns(df):\n",
        "  # Could shift all these by 1 and then it would be how much money I have made till that date\n",
        "\n",
        "  plt.figure(figsize=(12,9))\n",
        "  plt.plot(df['Max_money'].shift(1)/df.Close[0], label='Optimum strat')\n",
        "  plt.plot(df['Cum_money_made'].shift(1)/df.Close[0], label='My strat')\n",
        "  plt.plot((df['Close']-df.Close[0])/df.Close[0], label='Long stock')\n",
        "  plt.title('Return of optimal strategy vs my strategy vs long stock')\n",
        "  plt.ylabel('Return')\n",
        "  plt.legend()\n",
        "  plt.show()\n",
        "\n",
        "plot_returns(apl_t1)"
      ],
      "metadata": {
        "colab": {
          "base_uri": "https://localhost:8080/",
          "height": 553
        },
        "id": "JKwcAmAbfklg",
        "outputId": "5c383bca-2e38-4534-ec6b-cca323584cd5"
      },
      "execution_count": 23,
      "outputs": [
        {
          "output_type": "display_data",
          "data": {
            "text/plain": [
              "<Figure size 864x648 with 1 Axes>"
            ],
            "image/png": "[encoded data removed]"
          },
          "metadata": {
            "needs_background": "light"
          }
        }
      ]
    },
    {
      "cell_type": "code",
      "source": [
        "def stats(df):\n",
        "  Total_profit=df.Cum_money_made[-2]/df.Close[0] # -2 as we don't earn the last two weeks data as this is not technically included\n",
        "  Max_profit=df.Max_money[-2]/df.Close[0]\n",
        "  stock_profit=(df.Close[-1]-df.Close[0])/df.Close[0]\n",
        "  print('The strategy return is: ', Total_profit)\n",
        "  print('The optimal strategy return is: ', Max_profit)\n",
        "  print('The long stock position profit is: ', stock_profit)\n",
        "  print('Percentage return compared to stock is: ', (Total_profit/stock_profit))\n",
        "  return Total_profit\n",
        "\n",
        "stats(apl_t1)"
      ],
      "metadata": {
        "id": "y6bu3jN3gX8C",
        "colab": {
          "base_uri": "https://localhost:8080/"
        },
        "outputId": "e09f64b7-0883-464c-9e3a-eccfb7b085e0"
      },
      "execution_count": 24,
      "outputs": [
        {
          "output_type": "stream",
          "name": "stdout",
          "text": [
            "The strategy return is:  333.41021970564526\n",
            "The optimal strategy return is:  1167.0968263561942\n",
            "The long stock position profit is:  386.95755927386864\n",
            "Percentage return compared to stock is:  0.8616196058588292\n"
          ]
        },
        {
          "output_type": "execute_result",
          "data": {
            "text/plain": [
              "333.41021970564526"
            ]
          },
          "metadata": {},
          "execution_count": 24
        }
      ]
    },
    {
      "cell_type": "markdown",
      "source": [
        "Now we see what the profit would be applying the model to only the test data so we get more of an idea of how much profit the algorithm can create on a shorter term basis."
      ],
      "metadata": {
        "id": "2rqk1fd0h0tl"
      }
    },
    {
      "cell_type": "code",
      "source": [
        "apl_t2=apl_df.iloc[int(0.8*len(apl_df)):,:]\n",
        "apl_t2=apl_t2.iloc[::look_forward,:]\n",
        "apl_t2.head(5)"
      ],
      "metadata": {
        "colab": {
          "base_uri": "https://localhost:8080/",
          "height": 238
        },
        "id": "cVM-tNdMhyMI",
        "outputId": "bf7095e7-27a7-4af2-8a8e-a06ba2af52e4"
      },
      "execution_count": 25,
      "outputs": [
        {
          "output_type": "execute_result",
          "data": {
            "text/plain": [
              "                Close     Volume  mreturns   returns  Move  momentum  \\\n",
              "Date                                                                   \n",
              "2018-03-26  43.192501  150164800  1.002778  1.047472     1  0.996973   \n",
              "2018-04-10  43.312500  113634400  0.940491  1.018818     0  0.997316   \n",
              "2018-04-24  40.735001  134768000  1.141831  0.986081     1  1.000281   \n",
              "2018-05-08  46.512501  113611200  1.005966  1.004807     1  1.004455   \n",
              "2018-05-22  46.790001   60962800  1.036439  0.997495     1  1.006486   \n",
              "\n",
              "            volatility       volume        RSI  momentum_ind  volatility_ind  \\\n",
              "Date                                                                           \n",
              "2018-03-26    0.012233  134013860.0  26.869133      0.996933        0.010901   \n",
              "2018-04-10    0.017799  136009100.0  43.284733      0.996786        0.013916   \n",
              "2018-04-24    0.020020  131312960.0  45.271696      1.001704        0.012818   \n",
              "2018-05-08    0.019980  145111500.0  58.373672      1.001152        0.007942   \n",
              "2018-05-22    0.015468  128883020.0  81.438783      1.001282        0.006764   \n",
              "\n",
              "            Volume_ind    RSI_ind  \n",
              "Date                               \n",
              "2018-03-26   141956100  25.297019  \n",
              "2018-04-10   103529000  40.523290  \n",
              "2018-04-24   112885500  59.790703  \n",
              "2018-05-08    67499200  41.973528  \n",
              "2018-05-22    52966400  72.445077  "
            ],
            "text/html": [
              "\n",
              "  <div id=\"df-c673a729-b808-44b4-95c3-5942e1bc3b79\">\n",
              "    <div class=\"colab-df-container\">\n",
              "      <div>\n",
              "<style scoped>\n",
              "    .dataframe tbody tr th:only-of-type {\n",
              "        vertical-align: middle;\n",
              "    }\n",
              "\n",
              "    .dataframe tbody tr th {\n",
              "        vertical-align: top;\n",
              "    }\n",
              "\n",
              "    .dataframe thead th {\n",
              "        text-align: right;\n",
              "    }\n",
              "</style>\n",
              "<table border=\"1\" class=\"dataframe\">\n",
              "  <thead>\n",
              "    <tr style=\"text-align: right;\">\n",
              "      <th></th>\n",
              "      <th>Close</th>\n",
              "      <th>Volume</th>\n",
              "      <th>mreturns</th>\n",
              "      <th>returns</th>\n",
              "      <th>Move</th>\n",
              "      <th>momentum</th>\n",
              "      <th>volatility</th>\n",
              "      <th>volume</th>\n",
              "      <th>RSI</th>\n",
              "      <th>momentum_ind</th>\n",
              "      <th>volatility_ind</th>\n",
              "      <th>Volume_ind</th>\n",
              "      <th>RSI_ind</th>\n",
              "    </tr>\n",
              "    <tr>\n",
              "      <th>Date</th>\n",
              "      <th></th>\n",
              "      <th></th>\n",
              "      <th></th>\n",
              "      <th></th>\n",
              "      <th></th>\n",
              "      <th></th>\n",
              "      <th></th>\n",
              "      <th></th>\n",
              "      <th></th>\n",
              "      <th></th>\n",
              "      <th></th>\n",
              "      <th></th>\n",
              "      <th></th>\n",
              "    </tr>\n",
              "  </thead>\n",
              "  <tbody>\n",
              "    <tr>\n",
              "      <th>2018-03-26</th>\n",
              "      <td>43.192501</td>\n",
              "      <td>150164800</td>\n",
              "      <td>1.002778</td>\n",
              "      <td>1.047472</td>\n",
              "      <td>1</td>\n",
              "      <td>0.996973</td>\n",
              "      <td>0.012233</td>\n",
              "      <td>134013860.0</td>\n",
              "      <td>26.869133</td>\n",
              "      <td>0.996933</td>\n",
              "      <td>0.010901</td>\n",
              "      <td>141956100</td>\n",
              "      <td>25.297019</td>\n",
              "    </tr>\n",
              "    <tr>\n",
              "      <th>2018-04-10</th>\n",
              "      <td>43.312500</td>\n",
              "      <td>113634400</td>\n",
              "      <td>0.940491</td>\n",
              "      <td>1.018818</td>\n",
              "      <td>0</td>\n",
              "      <td>0.997316</td>\n",
              "      <td>0.017799</td>\n",
              "      <td>136009100.0</td>\n",
              "      <td>43.284733</td>\n",
              "      <td>0.996786</td>\n",
              "      <td>0.013916</td>\n",
              "      <td>103529000</td>\n",
              "      <td>40.523290</td>\n",
              "    </tr>\n",
              "    <tr>\n",
              "      <th>2018-04-24</th>\n",
              "      <td>40.735001</td>\n",
              "      <td>134768000</td>\n",
              "      <td>1.141831</td>\n",
              "      <td>0.986081</td>\n",
              "      <td>1</td>\n",
              "      <td>1.000281</td>\n",
              "      <td>0.020020</td>\n",
              "      <td>131312960.0</td>\n",
              "      <td>45.271696</td>\n",
              "      <td>1.001704</td>\n",
              "      <td>0.012818</td>\n",
              "      <td>112885500</td>\n",
              "      <td>59.790703</td>\n",
              "    </tr>\n",
              "    <tr>\n",
              "      <th>2018-05-08</th>\n",
              "      <td>46.512501</td>\n",
              "      <td>113611200</td>\n",
              "      <td>1.005966</td>\n",
              "      <td>1.004807</td>\n",
              "      <td>1</td>\n",
              "      <td>1.004455</td>\n",
              "      <td>0.019980</td>\n",
              "      <td>145111500.0</td>\n",
              "      <td>58.373672</td>\n",
              "      <td>1.001152</td>\n",
              "      <td>0.007942</td>\n",
              "      <td>67499200</td>\n",
              "      <td>41.973528</td>\n",
              "    </tr>\n",
              "    <tr>\n",
              "      <th>2018-05-22</th>\n",
              "      <td>46.790001</td>\n",
              "      <td>60962800</td>\n",
              "      <td>1.036439</td>\n",
              "      <td>0.997495</td>\n",
              "      <td>1</td>\n",
              "      <td>1.006486</td>\n",
              "      <td>0.015468</td>\n",
              "      <td>128883020.0</td>\n",
              "      <td>81.438783</td>\n",
              "      <td>1.001282</td>\n",
              "      <td>0.006764</td>\n",
              "      <td>52966400</td>\n",
              "      <td>72.445077</td>\n",
              "    </tr>\n",
              "  </tbody>\n",
              "</table>\n",
              "</div>\n",
              "      <button class=\"colab-df-convert\" onclick=\"convertToInteractive('df-c673a729-b808-44b4-95c3-5942e1bc3b79')\"\n",
              "              title=\"Convert this dataframe to an interactive table.\"\n",
              "              style=\"display:none;\">\n",
              "        \n",
              "  <svg xmlns=\"http://www.w3.org/2000/svg\" height=\"24px\"viewBox=\"0 0 24 24\"\n",
              "       width=\"24px\">\n",
              "    <path d=\"M0 0h24v24H0V0z\" fill=\"none\"/>\n",
              "    <path d=\"M18.56 5.44l.94 2.06.94-2.06 2.06-.94-2.06-.94-.94-2.06-.94 2.06-2.06.94zm-11 1L8.5 8.5l.94-2.06 2.06-.94-2.06-.94L8.5 2.5l-.94 2.06-2.06.94zm10 10l.94 2.06.94-2.06 2.06-.94-2.06-.94-.94-2.06-.94 2.06-2.06.94z\"/><path d=\"M17.41 7.96l-1.37-1.37c-.4-.4-.92-.59-1.43-.59-.52 0-1.04.2-1.43.59L10.3 9.45l-7.72 7.72c-.78.78-.78 2.05 0 2.83L4 21.41c.39.39.9.59 1.41.59.51 0 1.02-.2 1.41-.59l7.78-7.78 2.81-2.81c.8-.78.8-2.07 0-2.86zM5.41 20L4 18.59l7.72-7.72 1.47 1.35L5.41 20z\"/>\n",
              "  </svg>\n",
              "      </button>\n",
              "      \n",
              "  <style>\n",
              "    .colab-df-container {\n",
              "      display:flex;\n",
              "      flex-wrap:wrap;\n",
              "      gap: 12px;\n",
              "    }\n",
              "\n",
              "    .colab-df-convert {\n",
              "      background-color: #E8F0FE;\n",
              "      border: none;\n",
              "      border-radius: 50%;\n",
              "      cursor: pointer;\n",
              "      display: none;\n",
              "      fill: #1967D2;\n",
              "      height: 32px;\n",
              "      padding: 0 0 0 0;\n",
              "      width: 32px;\n",
              "    }\n",
              "\n",
              "    .colab-df-convert:hover {\n",
              "      background-color: #E2EBFA;\n",
              "      box-shadow: 0px 1px 2px rgba(60, 64, 67, 0.3), 0px 1px 3px 1px rgba(60, 64, 67, 0.15);\n",
              "      fill: #174EA6;\n",
              "    }\n",
              "\n",
              "    [theme=dark] .colab-df-convert {\n",
              "      background-color: #3B4455;\n",
              "      fill: #D2E3FC;\n",
              "    }\n",
              "\n",
              "    [theme=dark] .colab-df-convert:hover {\n",
              "      background-color: #434B5C;\n",
              "      box-shadow: 0px 1px 3px 1px rgba(0, 0, 0, 0.15);\n",
              "      filter: drop-shadow(0px 1px 2px rgba(0, 0, 0, 0.3));\n",
              "      fill: #FFFFFF;\n",
              "    }\n",
              "  </style>\n",
              "\n",
              "      <script>\n",
              "        const buttonEl =\n",
              "          document.querySelector('#df-c673a729-b808-44b4-95c3-5942e1bc3b79 button.colab-df-convert');\n",
              "        buttonEl.style.display =\n",
              "          google.colab.kernel.accessAllowed ? 'block' : 'none';\n",
              "\n",
              "        async function convertToInteractive(key) {\n",
              "          const element = document.querySelector('#df-c673a729-b808-44b4-95c3-5942e1bc3b79');\n",
              "          const dataTable =\n",
              "            await google.colab.kernel.invokeFunction('convertToInteractive',\n",
              "                                                     [key], {});\n",
              "          if (!dataTable) return;\n",
              "\n",
              "          const docLinkHtml = 'Like what you see? Visit the ' +\n",
              "            '<a target=\"_blank\" href=https://colab.research.google.com/notebooks/data_table.ipynb>data table notebook</a>'\n",
              "            + ' to learn more about interactive tables.';\n",
              "          element.innerHTML = '';\n",
              "          dataTable['output_type'] = 'display_data';\n",
              "          await google.colab.output.renderOutput(dataTable, element);\n",
              "          const docLink = document.createElement('div');\n",
              "          docLink.innerHTML = docLinkHtml;\n",
              "          element.appendChild(docLink);\n",
              "        }\n",
              "      </script>\n",
              "    </div>\n",
              "  </div>\n",
              "  "
            ]
          },
          "metadata": {},
          "execution_count": 25
        }
      ]
    },
    {
      "cell_type": "code",
      "source": [
        "pred_m_day_moves2=m_day_preds(apl_t2, classifier)\n",
        "apl_t2=add_predictions(apl_t2, pred_m_day_moves2)\n",
        "plot_returns(apl_t2)\n",
        "stats(apl_t2)\n"
      ],
      "metadata": {
        "colab": {
          "base_uri": "https://localhost:8080/",
          "height": 675
        },
        "id": "ZuANGg57i2W9",
        "outputId": "46ce0f9d-b642-4e1a-ad10-d275ccad19e0"
      },
      "execution_count": 26,
      "outputs": [
        {
          "output_type": "stream",
          "name": "stdout",
          "text": [
            "The accuracy for the m day strategy is:  0.6111111111111112\n",
            "108\n"
          ]
        },
        {
          "output_type": "display_data",
          "data": {
            "text/plain": [
              "<Figure size 864x648 with 1 Axes>"
            ],
            "image/png": "[encoded data removed]"
          },
          "metadata": {
            "needs_background": "light"
          }
        },
        {
          "output_type": "stream",
          "name": "stdout",
          "text": [
            "The strategy return is:  1.0926083210601745\n",
            "The optimal strategy return is:  6.389998161949451\n",
            "The long stock position profit is:  2.2797360819647836\n",
            "Percentage return compared to stock is:  0.479269653054977\n"
          ]
        },
        {
          "output_type": "execute_result",
          "data": {
            "text/plain": [
              "1.0926083210601745"
            ]
          },
          "metadata": {},
          "execution_count": 26
        }
      ]
    },
    {
      "cell_type": "code",
      "source": [
        "def make_dataframe(df1, df2, days_in_past, look_forward):\n",
        "  '''This function prepares and makes a joint dataframe of stock and index with all the features'''\n",
        "  df1=prepare(df1)\n",
        "  df2=prepare(df2)\n",
        "  df1=feature_calc(df1, days_in_past, look_forward) # we use the past ? days of stock for prediction 2 weeks into future\n",
        "  df2=feature_calc(df2, days_in_past, look_forward)\n",
        "  df3=Join(df1, df2)\n",
        "  return df3"
      ],
      "metadata": {
        "id": "12AUJlf00DXF"
      },
      "execution_count": 27,
      "outputs": []
    },
    {
      "cell_type": "code",
      "source": [
        "def Maximise_returns(df1,df2, classifier, n):\n",
        "  profits=[]\n",
        "  ms=[]\n",
        "  for m in range(1,60,2):\n",
        "    df=make_dataframe(df1, df2, n, m)\n",
        "    df=df.iloc[int(0.8*len(df)):,:]\n",
        "    df=df.iloc[::m,:]\n",
        "    pred_m_day=m_day_preds(df, classifier)\n",
        "    df=add_predictions(df, pred_m_day)\n",
        "    prof=stats(df)\n",
        "    profits.append(prof)\n",
        "    ms.append(m)\n",
        "  plt.plot(ms, profits)\n",
        "  plt.xlabel('m')\n",
        "  plt.ylabel('Returns')\n",
        "  plt.show()\n",
        "\n"
      ],
      "metadata": {
        "id": "v8bDYIJQ0NvM"
      },
      "execution_count": 28,
      "outputs": []
    },
    {
      "cell_type": "code",
      "source": [
        "Maximise_returns(pd.read_csv('AAPL.csv'), pd.read_csv('SPY.csv'), classifier, 20)"
      ],
      "metadata": {
        "colab": {
          "base_uri": "https://localhost:8080/",
          "height": 1000
        },
        "id": "Euk6kjIO9odb",
        "outputId": "ecf3df7f-3e09-4091-a008-cd92922a6edb"
      },
      "execution_count": 29,
      "outputs": [
        {
          "output_type": "stream",
          "name": "stdout",
          "text": [
            "The accuracy for the m day strategy is:  0.5370370370370371\n",
            "1080\n",
            "The strategy return is:  1.771172638765346\n",
            "The optimal strategy return is:  19.683628039348424\n",
            "The long stock position profit is:  2.6355859214731936\n",
            "Percentage return compared to stock is:  0.6720223477955622\n",
            "The accuracy for the m day strategy is:  0.55\n",
            "360\n",
            "The strategy return is:  0.9927155527067207\n",
            "The optimal strategy return is:  11.97785581259833\n",
            "The long stock position profit is:  2.460637515296311\n",
            "Percentage return compared to stock is:  0.4034383555219337\n",
            "The accuracy for the m day strategy is:  0.6064814814814815\n",
            "216\n",
            "The strategy return is:  1.6509477874225016\n",
            "The optimal strategy return is:  9.49634053258174\n",
            "The long stock position profit is:  2.5286777071599578\n",
            "Percentage return compared to stock is:  0.6528897624034247\n",
            "The accuracy for the m day strategy is:  0.5935483870967742\n",
            "155\n",
            "The strategy return is:  2.8084395994755047\n",
            "The optimal strategy return is:  7.636964930265825\n",
            "The long stock position profit is:  2.477410919060675\n",
            "Percentage return compared to stock is:  1.1336188025442067\n",
            "The accuracy for the m day strategy is:  0.6\n",
            "120\n",
            "The strategy return is:  1.1075208294527916\n",
            "The optimal strategy return is:  7.298088019438943\n",
            "The long stock position profit is:  2.265771777730112\n",
            "Percentage return compared to stock is:  0.48880511282664335\n",
            "The accuracy for the m day strategy is:  0.6020408163265306\n",
            "98\n",
            "The strategy return is:  1.816981818209601\n",
            "The optimal strategy return is:  6.356717292198476\n",
            "The long stock position profit is:  2.145684826169246\n",
            "Percentage return compared to stock is:  0.8468074136747809\n",
            "The accuracy for the m day strategy is:  0.6144578313253012\n",
            "83\n",
            "The strategy return is:  1.8007102966794046\n",
            "The optimal strategy return is:  6.37494775836789\n",
            "The long stock position profit is:  2.2082910650498753\n",
            "Percentage return compared to stock is:  0.8154315910519407\n",
            "The accuracy for the m day strategy is:  0.6666666666666666\n",
            "72\n",
            "The strategy return is:  1.5501030004541654\n",
            "The optimal strategy return is:  5.610477320007366\n",
            "The long stock position profit is:  2.130107324124462\n",
            "Percentage return compared to stock is:  0.7277112204152925\n",
            "The accuracy for the m day strategy is:  0.6875\n",
            "64\n",
            "The strategy return is:  1.4662864924977406\n",
            "The optimal strategy return is:  5.858014720866749\n",
            "The long stock position profit is:  2.0019394180960774\n",
            "Percentage return compared to stock is:  0.7324329993423259\n",
            "The accuracy for the m day strategy is:  0.631578947368421\n",
            "57\n",
            "The strategy return is:  1.588748909655702\n",
            "The optimal strategy return is:  5.300588045926136\n",
            "The long stock position profit is:  2.272096401773138\n",
            "Percentage return compared to stock is:  0.6992436185435822\n",
            "The accuracy for the m day strategy is:  0.6153846153846154\n",
            "52\n",
            "The strategy return is:  0.6810134570496856\n",
            "The optimal strategy return is:  4.818762546093644\n",
            "The long stock position profit is:  1.9760141677647578\n",
            "Percentage return compared to stock is:  0.3446399667366957\n",
            "The accuracy for the m day strategy is:  0.6382978723404256\n",
            "47\n",
            "The strategy return is:  2.150121087387189\n",
            "The optimal strategy return is:  4.902652608408541\n",
            "The long stock position profit is:  2.150121087387189\n",
            "Percentage return compared to stock is:  1.0\n",
            "The accuracy for the m day strategy is:  0.5681818181818182\n",
            "44\n",
            "The strategy return is:  0.9355714041918985\n",
            "The optimal strategy return is:  5.067932495355885\n",
            "The long stock position profit is:  2.0012431784504767\n",
            "Percentage return compared to stock is:  0.46749511217137196\n",
            "The accuracy for the m day strategy is:  0.7\n",
            "40\n",
            "The strategy return is:  2.324173090327374\n",
            "The optimal strategy return is:  5.036107867222762\n",
            "The long stock position profit is:  2.3479974861452324\n",
            "Percentage return compared to stock is:  0.9898533128938858\n",
            "The accuracy for the m day strategy is:  0.6578947368421053\n",
            "38\n",
            "The strategy return is:  2.110168595852568\n",
            "The optimal strategy return is:  4.401538178869441\n",
            "The long stock position profit is:  2.3640990899627146\n",
            "Percentage return compared to stock is:  0.8925888956227501\n",
            "The accuracy for the m day strategy is:  0.6\n",
            "35\n",
            "The strategy return is:  2.124453453290804\n",
            "The optimal strategy return is:  4.131320350430948\n",
            "The long stock position profit is:  2.451790275158492\n",
            "Percentage return compared to stock is:  0.8664906924608273\n",
            "The accuracy for the m day strategy is:  0.6060606060606061\n",
            "33\n",
            "The strategy return is:  1.9979785986521135\n",
            "The optimal strategy return is:  4.264934072870739\n",
            "The long stock position profit is:  2.414776586902686\n",
            "Percentage return compared to stock is:  0.8273968736854541\n",
            "The accuracy for the m day strategy is:  0.5483870967741935\n",
            "31\n",
            "The strategy return is:  1.167402290886741\n",
            "The optimal strategy return is:  4.598703782756886\n",
            "The long stock position profit is:  2.499357590657652\n",
            "Percentage return compared to stock is:  0.467080939218291\n",
            "The accuracy for the m day strategy is:  0.7586206896551724\n",
            "29\n",
            "The strategy return is:  3.1072933789173787\n",
            "The optimal strategy return is:  4.307293356125356\n",
            "The long stock position profit is:  2.9899714643874646\n",
            "Percentage return compared to stock is:  1.0392384729845403\n",
            "The accuracy for the m day strategy is:  0.6071428571428571\n",
            "28\n",
            "The strategy return is:  1.9988893202132778\n",
            "The optimal strategy return is:  4.094464062923291\n",
            "The long stock position profit is:  2.660957495249547\n",
            "Percentage return compared to stock is:  0.75119175100759\n",
            "The accuracy for the m day strategy is:  0.7037037037037037\n",
            "27\n",
            "The strategy return is:  1.7533312422074476\n",
            "The optimal strategy return is:  4.406284717775515\n",
            "The long stock position profit is:  2.424148830996854\n",
            "Percentage return compared to stock is:  0.7232770611227058\n",
            "The accuracy for the m day strategy is:  0.68\n",
            "25\n",
            "The strategy return is:  2.7449566161059797\n",
            "The optimal strategy return is:  3.5099139023084827\n",
            "The long stock position profit is:  2.935718898532426\n",
            "Percentage return compared to stock is:  0.9350202492064861\n",
            "The accuracy for the m day strategy is:  0.7083333333333334\n",
            "24\n",
            "The strategy return is:  1.8950955797759663\n",
            "The optimal strategy return is:  4.061945285674706\n",
            "The long stock position profit is:  3.2368263657496983\n",
            "Percentage return compared to stock is:  0.5854795301437287\n",
            "The accuracy for the m day strategy is:  0.4782608695652174\n",
            "23\n",
            "The strategy return is:  1.4264030028195942\n",
            "The optimal strategy return is:  3.9248352074323543\n",
            "The long stock position profit is:  3.150205855806977\n",
            "Percentage return compared to stock is:  0.452796759357873\n",
            "The accuracy for the m day strategy is:  0.5\n",
            "22\n",
            "The strategy return is:  1.20934595987604\n",
            "The optimal strategy return is:  4.666967588370872\n",
            "The long stock position profit is:  2.9891718718232356\n",
            "Percentage return compared to stock is:  0.40457558539061306\n",
            "The accuracy for the m day strategy is:  0.6666666666666666\n",
            "21\n",
            "The strategy return is:  3.1331331143604415\n",
            "The optimal strategy return is:  4.056224372883257\n",
            "The long stock position profit is:  3.133133114360442\n",
            "Percentage return compared to stock is:  0.9999999999999999\n",
            "The accuracy for the m day strategy is:  0.6190476190476191\n",
            "21\n",
            "The strategy return is:  3.0673524425240597\n",
            "The optimal strategy return is:  4.073550256922481\n",
            "The long stock position profit is:  3.253817975491904\n",
            "Percentage return compared to stock is:  0.9426933115581996\n",
            "The accuracy for the m day strategy is:  0.65\n",
            "20\n",
            "The strategy return is:  1.0344500655620457\n",
            "The optimal strategy return is:  3.8705448802002618\n",
            "The long stock position profit is:  3.186434759804506\n",
            "Percentage return compared to stock is:  0.3246418469353853\n",
            "The accuracy for the m day strategy is:  0.7368421052631579\n",
            "19\n",
            "The strategy return is:  3.378666159166991\n",
            "The optimal strategy return is:  3.6111213814069827\n",
            "The long stock position profit is:  2.944812826605164\n",
            "Percentage return compared to stock is:  1.1473279824925176\n",
            "The accuracy for the m day strategy is:  0.7368421052631579\n",
            "19\n",
            "The strategy return is:  2.9775541330052806\n",
            "The optimal strategy return is:  3.744105704019734\n",
            "The long stock position profit is:  2.931174068531838\n",
            "Percentage return compared to stock is:  1.0158230331563602\n"
          ]
        },
        {
          "output_type": "display_data",
          "data": {
            "text/plain": [
              "<Figure size 432x288 with 1 Axes>"
            ],
            "image/png": "[encoded data removed]"
          },
          "metadata": {
            "needs_background": "light"
          }
        }
      ]
    },
    {
      "cell_type": "markdown",
      "source": [
        "The returns are quite erratic, cannot really make any conclusion on roughly which values of m will give higher returns."
      ],
      "metadata": {
        "id": "ytqSr9DULlr7"
      }
    },
    {
      "cell_type": "markdown",
      "source": [
        "# Deep Learning model\n",
        "We can also try and make a deep learning model to see if we can improve our accuracy but with such a limited number of features currently it is unlikely that we will see great improvements to accuracy."
      ],
      "metadata": {
        "id": "rfjazNlZket_"
      }
    },
    {
      "cell_type": "code",
      "source": [
        "y_train_d=tf.keras.utils.to_categorical(y_train, num_classes=2)\n",
        "y_test_d=tf.keras.utils.to_categorical(y_test, num_classes=2)\n",
        "y_test_d"
      ],
      "metadata": {
        "id": "VvbhvSC5j8Lj",
        "colab": {
          "base_uri": "https://localhost:8080/"
        },
        "outputId": "300a3ce2-770a-4202-f151-cc7e7d87b83c"
      },
      "execution_count": 30,
      "outputs": [
        {
          "output_type": "execute_result",
          "data": {
            "text/plain": [
              "array([[0., 1.],\n",
              "       [0., 1.],\n",
              "       [0., 1.],\n",
              "       ...,\n",
              "       [0., 1.],\n",
              "       [0., 1.],\n",
              "       [0., 1.]], dtype=float32)"
            ]
          },
          "metadata": {},
          "execution_count": 30
        }
      ]
    },
    {
      "cell_type": "code",
      "source": [
        "model = keras.Sequential()\n",
        "model.add(layers.Dense(32, activation='relu'))\n",
        "model.add(layers.Dropout(0.2))\n",
        "model.add(layers.Dense(32, activation='relu'))\n",
        "model.add(layers.Dropout(0.2))\n",
        "model.add(layers.Dense(16, activation='relu'))\n",
        "model.add(layers.Dense(2, activation='softmax'))\n",
        "\n",
        "model.compile(optimizer=tf.keras.optimizers.Adam(), loss='binary_crossentropy', metrics=['accuracy'])\n",
        "\n",
        "model.fit(X_train_s, y_train_d, epochs=10, validation_data=(X_test_s, y_test_d), batch_size=16)"
      ],
      "metadata": {
        "colab": {
          "base_uri": "https://localhost:8080/"
        },
        "id": "X9UgXILXkzAF",
        "outputId": "5f7fdc7f-f1dc-4498-c39a-9dfe7ee49fef"
      },
      "execution_count": 35,
      "outputs": [
        {
          "output_type": "stream",
          "name": "stdout",
          "text": [
            "Epoch 1/10\n",
            "270/270 [==============================] - 2s 3ms/step - loss: 0.6842 - accuracy: 0.5619 - val_loss: 0.6563 - val_accuracy: 0.6284\n",
            "Epoch 2/10\n",
            "270/270 [==============================] - 1s 3ms/step - loss: 0.6760 - accuracy: 0.5819 - val_loss: 0.6662 - val_accuracy: 0.6182\n",
            "Epoch 3/10\n",
            "270/270 [==============================] - 1s 2ms/step - loss: 0.6724 - accuracy: 0.5844 - val_loss: 0.6625 - val_accuracy: 0.6219\n",
            "Epoch 4/10\n",
            "270/270 [==============================] - 1s 3ms/step - loss: 0.6694 - accuracy: 0.5907 - val_loss: 0.6591 - val_accuracy: 0.6321\n",
            "Epoch 5/10\n",
            "270/270 [==============================] - 1s 3ms/step - loss: 0.6708 - accuracy: 0.5884 - val_loss: 0.6664 - val_accuracy: 0.6284\n",
            "Epoch 6/10\n",
            "270/270 [==============================] - 1s 3ms/step - loss: 0.6675 - accuracy: 0.5914 - val_loss: 0.6637 - val_accuracy: 0.6395\n",
            "Epoch 7/10\n",
            "270/270 [==============================] - 1s 2ms/step - loss: 0.6668 - accuracy: 0.5974 - val_loss: 0.6654 - val_accuracy: 0.6247\n",
            "Epoch 8/10\n",
            "270/270 [==============================] - 1s 2ms/step - loss: 0.6655 - accuracy: 0.5881 - val_loss: 0.6708 - val_accuracy: 0.6135\n",
            "Epoch 9/10\n",
            "270/270 [==============================] - 1s 3ms/step - loss: 0.6635 - accuracy: 0.5930 - val_loss: 0.6667 - val_accuracy: 0.6265\n",
            "Epoch 10/10\n",
            "270/270 [==============================] - 1s 2ms/step - loss: 0.6633 - accuracy: 0.5916 - val_loss: 0.6743 - val_accuracy: 0.6191\n"
          ]
        },
        {
          "output_type": "execute_result",
          "data": {
            "text/plain": [
              "<keras.callbacks.History at 0x7f7ff11fe850>"
            ]
          },
          "metadata": {},
          "execution_count": 35
        }
      ]
    },
    {
      "cell_type": "markdown",
      "source": [
        "We get a similar accuracy using a simple deep learning model as the SVM , but a bit higher"
      ],
      "metadata": {
        "id": "1ZXm99q_lLX9"
      }
    },
    {
      "cell_type": "code",
      "source": [
        "y=model.predict(X_test_s)\n",
        "y"
      ],
      "metadata": {
        "colab": {
          "base_uri": "https://localhost:8080/"
        },
        "id": "kLqFKzAioE3P",
        "outputId": "9f6d8808-bac6-4eaa-9e50-7596dec74e64"
      },
      "execution_count": 36,
      "outputs": [
        {
          "output_type": "execute_result",
          "data": {
            "text/plain": [
              "array([[0.27511215, 0.72488785],\n",
              "       [0.36884663, 0.6311534 ],\n",
              "       [0.3806892 , 0.6193108 ],\n",
              "       ...,\n",
              "       [0.22009398, 0.779906  ],\n",
              "       [0.40424386, 0.5957562 ],\n",
              "       [0.45330876, 0.54669124]], dtype=float32)"
            ]
          },
          "metadata": {},
          "execution_count": 36
        }
      ]
    },
    {
      "cell_type": "code",
      "source": [
        "def m_day_preds_deep(df, model):\n",
        "  X=df[features]\n",
        "  scaler=preprocessing.StandardScaler()\n",
        "  X=scaler.fit_transform(X)\n",
        "  y=model.predict(X)\n",
        "  #print(y)\n",
        "  ys=[]\n",
        "  for i in range(len(y)):\n",
        "    if y[i][1]>0.5:\n",
        "      ys.append(1)\n",
        "    else:\n",
        "      ys.append(0)\n",
        "  return np.array(ys)\n",
        "\n",
        "\n",
        "apl_t3=apl_df.iloc[int(0.8*len(apl_df)):,:]\n",
        "apl_t3=apl_t3.iloc[::look_forward,:]\n",
        "pred_m_day_moves3=m_day_preds_deep(apl_t3, model)\n",
        "apl_t3=add_predictions(apl_t3, pred_m_day_moves3)\n",
        "\n",
        "plot_returns(apl_t3)\n",
        "stats(apl_t3)\n",
        "apl_t3.Move.value_counts()\n"
      ],
      "metadata": {
        "colab": {
          "base_uri": "https://localhost:8080/",
          "height": 692
        },
        "id": "hv7ms43dl7Mh",
        "outputId": "3613a4c2-8add-4ec8-aba3-f6caa818723d"
      },
      "execution_count": 37,
      "outputs": [
        {
          "output_type": "stream",
          "name": "stdout",
          "text": [
            "108\n"
          ]
        },
        {
          "output_type": "display_data",
          "data": {
            "text/plain": [
              "<Figure size 864x648 with 1 Axes>"
            ],
            "image/png": "[encoded data removed]"
          },
          "metadata": {
            "needs_background": "light"
          }
        },
        {
          "output_type": "stream",
          "name": "stdout",
          "text": [
            "The strategy return is:  0.45546068286251473\n",
            "The optimal strategy return is:  6.389998161949451\n",
            "The long stock position profit is:  2.2797360819647836\n",
            "Percentage return compared to stock is:  0.1997865833969594\n"
          ]
        },
        {
          "output_type": "execute_result",
          "data": {
            "text/plain": [
              "1    69\n",
              "0    39\n",
              "Name: Move, dtype: int64"
            ]
          },
          "metadata": {},
          "execution_count": 37
        }
      ]
    },
    {
      "cell_type": "markdown",
      "source": [
        "It is worth creating confusion matrices for both our models "
      ],
      "metadata": {
        "id": "gTGCPGgaOrj3"
      }
    },
    {
      "cell_type": "code",
      "source": [
        "conf_matrix(np.array(apl_t2['Move']), pred_m_day_moves2)"
      ],
      "metadata": {
        "id": "1oYGxi-HPGkO",
        "colab": {
          "base_uri": "https://localhost:8080/",
          "height": 265
        },
        "outputId": "8fe018fc-9988-4a4e-c5fd-5541f1faeb6f"
      },
      "execution_count": 38,
      "outputs": [
        {
          "output_type": "display_data",
          "data": {
            "text/plain": [
              "<Figure size 432x288 with 2 Axes>"
            ],
            "image/png": "[encoded data removed]"
          },
          "metadata": {
            "needs_background": "light"
          }
        }
      ]
    },
    {
      "cell_type": "code",
      "source": [
        "conf_matrix(np.array(apl_t3['Move']), pred_m_day_moves3)"
      ],
      "metadata": {
        "id": "XIrAPstbQHZe",
        "colab": {
          "base_uri": "https://localhost:8080/",
          "height": 265
        },
        "outputId": "5f825478-f966-41c0-ea17-7c06657a1f17"
      },
      "execution_count": 39,
      "outputs": [
        {
          "output_type": "display_data",
          "data": {
            "text/plain": [
              "<Figure size 432x288 with 2 Axes>"
            ],
            "image/png": "[encoded data removed]"
          },
          "metadata": {
            "needs_background": "light"
          }
        }
      ]
    },
    {
      "cell_type": "markdown",
      "source": [
        "We can check for the robustness or adaptability of the SVM model to different stocks in the S&P500 and see how well the model performs. If we get an accuracy of around 60% then we can say that the model is robust. I have not included this in this notebook but after checking the same SVM model trained on the AAPL data on 10 different stocks in the S&P 500 we get an accuracy of around 55%."
      ],
      "metadata": {
        "id": "8xXJIjNdRDT2"
      }
    }
  ]
}